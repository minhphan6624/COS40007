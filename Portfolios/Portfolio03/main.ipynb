{
 "cells": [
  {
   "cell_type": "markdown",
   "metadata": {},
   "source": [
    "# 1 - Data collection and combination"
   ]
  },
  {
   "cell_type": "code",
   "execution_count": 1,
   "metadata": {},
   "outputs": [
    {
     "name": "stdout",
     "output_type": "stream",
     "text": [
      "<class 'pandas.core.frame.DataFrame'>\n",
      "RangeIndex: 17880 entries, 0 to 17879\n",
      "Data columns (total 8 columns):\n",
      " #   Column        Non-Null Count  Dtype  \n",
      "---  ------        --------------  -----  \n",
      " 0   Frame         17880 non-null  int64  \n",
      " 1   Right Hand x  17880 non-null  float64\n",
      " 2   Right Hand y  17880 non-null  float64\n",
      " 3   Right Hand z  17880 non-null  float64\n",
      " 4   Left Hand x   17880 non-null  float64\n",
      " 5   Left Hand y   17880 non-null  float64\n",
      " 6   Left Hand z   17880 non-null  float64\n",
      " 7   class         17880 non-null  int64  \n",
      "dtypes: float64(6), int64(2)\n",
      "memory usage: 1.1 MB\n"
     ]
    }
   ],
   "source": [
    "import pandas as pd\n",
    "\n",
    "file_paths = ['data/boning.csv', 'data/slicing.csv']\n",
    "\n",
    "cols_to_read = [f'Right Hand {i}' for i in ['x', 'y', 'z']] + [f'Left Hand {i}' for i in ['x', 'y', 'z']] + ['Frame']\n",
    "\n",
    "boning_df = pd.read_csv(file_paths[0], usecols=cols_to_read)\n",
    "boning_df['class'] = 0\n",
    "slicing_df = pd.read_csv(file_paths[1], usecols=cols_to_read)\n",
    "slicing_df['class'] = 1\n",
    "\n",
    "df = pd.concat([boning_df, slicing_df], ignore_index=True)\n",
    "\n",
    "df.to_csv('data/combined_data.csv', index=False)\n",
    "\n",
    "slicing_df.info()"
   ]
  },
  {
   "cell_type": "markdown",
   "metadata": {},
   "source": [
    "# 2 - Create composite columns"
   ]
  },
  {
   "cell_type": "markdown",
   "metadata": {},
   "source": [
    "## Column set 1 - Right hand"
   ]
  },
  {
   "cell_type": "code",
   "execution_count": 2,
   "metadata": {},
   "outputs": [],
   "source": [
    "import numpy as np\n",
    "\n",
    "# ------- Column set 1 - Right hand -------\n",
    "\n",
    "# Root mean square of x and y\n",
    "df['rmsq_right_xy'] = np.sqrt( np.mean(df[['Right Hand x', 'Right Hand y']] ** 2, axis=1))\n",
    "\n",
    "# Root mean square of y and z\n",
    "df['rmsq_right_yz'] = np.sqrt( np.mean(df[['Right Hand y', 'Right Hand z']] ** 2, axis=1))\n",
    "\n",
    "# Root mean square of x and z\n",
    "df['rmsq_right_xz'] = np.sqrt( np.mean(df[['Right Hand z', 'Right Hand x']] ** 2, axis=1))\n",
    "\n",
    "# Root mean square of x, y and z\n",
    "df['rmsq_right_xyz'] = np.sqrt( np.mean(df[['Right Hand x', 'Right Hand y', 'Right Hand z']] ** 2, axis=1))\n",
    "\n",
    "# Right hand roll and pitch value\n",
    "df['right_hand_roll'] = 180 * np.arctan2(df['Right Hand y'], np.sqrt(df['Right Hand x'] ** 2 + df['Right Hand z'] ** 2)) / np.pi\n",
    "\n",
    "df['right_hand_pitch'] = 180 * np.arctan2(df['Right Hand x'], np.sqrt(df['Right Hand y'] ** 2 + df['Right Hand z'] ** 2)) / np.pi"
   ]
  },
  {
   "cell_type": "markdown",
   "metadata": {},
   "source": [
    "## Column set 2 - Left hand"
   ]
  },
  {
   "cell_type": "code",
   "execution_count": 3,
   "metadata": {},
   "outputs": [],
   "source": [
    "# ------- Column set 2 - Left hand -------\n",
    "\n",
    "# Root mean square of x and y\n",
    "df['rmsq_left_xy'] = np.sqrt( np.mean(df[['Left Hand x', 'Left Hand y']] ** 2, axis=1))\n",
    "\n",
    "# Root mean square of y and z\n",
    "df['rmsq_left_yz'] = np.sqrt( np.mean(df[['Left Hand y', 'Left Hand z']] ** 2, axis=1))\n",
    "\n",
    "# Root mean square of x and z\n",
    "df['rmsq_left_xz'] = np.sqrt( np.mean(df[['Left Hand z', 'Left Hand x']] ** 2, axis=1))\n",
    "\n",
    "# Root mean square of x, y and z\n",
    "df['rmsq_left_xyz'] = np.sqrt( np.mean(df[['Left Hand x', 'Left Hand y', 'Left Hand z']] ** 2, axis=1))\n",
    "\n",
    "# left hand roll and pitch value\n",
    "df['left_hand_roll'] = 180 * np.arctan2(df['Left Hand y'], np.sqrt(df['Left Hand x'] ** 2 + df['Left Hand z'] ** 2)) / np.pi\n",
    "\n",
    "df['left_hand_pitch'] = 180 * np.arctan2(df['Left Hand x'], np.sqrt(df['Left Hand y'] ** 2 + df['Left Hand z'] ** 2)) / np.pi"
   ]
  },
  {
   "cell_type": "code",
   "execution_count": 4,
   "metadata": {},
   "outputs": [
    {
     "name": "stdout",
     "output_type": "stream",
     "text": [
      "<class 'pandas.core.frame.DataFrame'>\n",
      "RangeIndex: 72060 entries, 0 to 72059\n",
      "Data columns (total 20 columns):\n",
      " #   Column            Non-Null Count  Dtype  \n",
      "---  ------            --------------  -----  \n",
      " 0   Frame             72060 non-null  int64  \n",
      " 1   Right Hand x      72060 non-null  float64\n",
      " 2   Right Hand y      72060 non-null  float64\n",
      " 3   Right Hand z      72060 non-null  float64\n",
      " 4   Left Hand x       72060 non-null  float64\n",
      " 5   Left Hand y       72060 non-null  float64\n",
      " 6   Left Hand z       72060 non-null  float64\n",
      " 7   class             72060 non-null  int64  \n",
      " 8   rmsq_right_xy     72060 non-null  float64\n",
      " 9   rmsq_right_yz     72060 non-null  float64\n",
      " 10  rmsq_right_xz     72060 non-null  float64\n",
      " 11  rmsq_right_xyz    72060 non-null  float64\n",
      " 12  right_hand_roll   72060 non-null  float64\n",
      " 13  right_hand_pitch  72060 non-null  float64\n",
      " 14  rmsq_left_xy      72060 non-null  float64\n",
      " 15  rmsq_left_yz      72060 non-null  float64\n",
      " 16  rmsq_left_xz      72060 non-null  float64\n",
      " 17  rmsq_left_xyz     72060 non-null  float64\n",
      " 18  left_hand_roll    72060 non-null  float64\n",
      " 19  left_hand_pitch   72060 non-null  float64\n",
      "dtypes: float64(18), int64(2)\n",
      "memory usage: 11.0 MB\n"
     ]
    }
   ],
   "source": [
    "df.info()"
   ]
  },
  {
   "cell_type": "code",
   "execution_count": 5,
   "metadata": {},
   "outputs": [
    {
     "data": {
      "text/html": [
       "<div>\n",
       "<style scoped>\n",
       "    .dataframe tbody tr th:only-of-type {\n",
       "        vertical-align: middle;\n",
       "    }\n",
       "\n",
       "    .dataframe tbody tr th {\n",
       "        vertical-align: top;\n",
       "    }\n",
       "\n",
       "    .dataframe thead th {\n",
       "        text-align: right;\n",
       "    }\n",
       "</style>\n",
       "<table border=\"1\" class=\"dataframe\">\n",
       "  <thead>\n",
       "    <tr style=\"text-align: right;\">\n",
       "      <th></th>\n",
       "      <th>Frame</th>\n",
       "      <th>Right Hand x</th>\n",
       "      <th>Right Hand y</th>\n",
       "      <th>Right Hand z</th>\n",
       "      <th>Left Hand x</th>\n",
       "      <th>Left Hand y</th>\n",
       "      <th>Left Hand z</th>\n",
       "      <th>class</th>\n",
       "      <th>rmsq_right_xy</th>\n",
       "      <th>rmsq_right_yz</th>\n",
       "      <th>rmsq_right_xz</th>\n",
       "      <th>rmsq_right_xyz</th>\n",
       "      <th>right_hand_roll</th>\n",
       "      <th>right_hand_pitch</th>\n",
       "      <th>rmsq_left_xy</th>\n",
       "      <th>rmsq_left_yz</th>\n",
       "      <th>rmsq_left_xz</th>\n",
       "      <th>rmsq_left_xyz</th>\n",
       "      <th>left_hand_roll</th>\n",
       "      <th>left_hand_pitch</th>\n",
       "    </tr>\n",
       "  </thead>\n",
       "  <tbody>\n",
       "    <tr>\n",
       "      <th>0</th>\n",
       "      <td>0</td>\n",
       "      <td>0.311465</td>\n",
       "      <td>-0.329472</td>\n",
       "      <td>0.750763</td>\n",
       "      <td>0.906499</td>\n",
       "      <td>-0.024053</td>\n",
       "      <td>0.779686</td>\n",
       "      <td>0</td>\n",
       "      <td>0.320595</td>\n",
       "      <td>0.579740</td>\n",
       "      <td>0.574742</td>\n",
       "      <td>0.506362</td>\n",
       "      <td>-22.065225</td>\n",
       "      <td>20.801413</td>\n",
       "      <td>0.641217</td>\n",
       "      <td>0.551584</td>\n",
       "      <td>0.845473</td>\n",
       "      <td>0.690466</td>\n",
       "      <td>-1.152438</td>\n",
       "      <td>49.287457</td>\n",
       "    </tr>\n",
       "    <tr>\n",
       "      <th>1</th>\n",
       "      <td>1</td>\n",
       "      <td>0.563723</td>\n",
       "      <td>-0.088187</td>\n",
       "      <td>1.033415</td>\n",
       "      <td>0.917992</td>\n",
       "      <td>0.172597</td>\n",
       "      <td>0.860215</td>\n",
       "      <td>0</td>\n",
       "      <td>0.403460</td>\n",
       "      <td>0.733391</td>\n",
       "      <td>0.832385</td>\n",
       "      <td>0.681544</td>\n",
       "      <td>-4.284295</td>\n",
       "      <td>28.524936</td>\n",
       "      <td>0.660492</td>\n",
       "      <td>0.620387</td>\n",
       "      <td>0.889573</td>\n",
       "      <td>0.733137</td>\n",
       "      <td>7.811881</td>\n",
       "      <td>46.296499</td>\n",
       "    </tr>\n",
       "    <tr>\n",
       "      <th>2</th>\n",
       "      <td>2</td>\n",
       "      <td>0.474087</td>\n",
       "      <td>-0.922834</td>\n",
       "      <td>0.802289</td>\n",
       "      <td>0.813233</td>\n",
       "      <td>0.054823</td>\n",
       "      <td>0.709743</td>\n",
       "      <td>0</td>\n",
       "      <td>0.733615</td>\n",
       "      <td>0.864665</td>\n",
       "      <td>0.658948</td>\n",
       "      <td>0.757199</td>\n",
       "      <td>-44.720146</td>\n",
       "      <td>21.191281</td>\n",
       "      <td>0.576348</td>\n",
       "      <td>0.503359</td>\n",
       "      <td>0.763244</td>\n",
       "      <td>0.623990</td>\n",
       "      <td>2.907617</td>\n",
       "      <td>48.802990</td>\n",
       "    </tr>\n",
       "    <tr>\n",
       "      <th>3</th>\n",
       "      <td>3</td>\n",
       "      <td>0.690891</td>\n",
       "      <td>-1.622115</td>\n",
       "      <td>0.393867</td>\n",
       "      <td>0.557506</td>\n",
       "      <td>0.006721</td>\n",
       "      <td>0.910102</td>\n",
       "      <td>0</td>\n",
       "      <td>1.246713</td>\n",
       "      <td>1.180336</td>\n",
       "      <td>0.562344</td>\n",
       "      <td>1.043027</td>\n",
       "      <td>-63.882655</td>\n",
       "      <td>22.484355</td>\n",
       "      <td>0.394245</td>\n",
       "      <td>0.643557</td>\n",
       "      <td>0.754685</td>\n",
       "      <td>0.616210</td>\n",
       "      <td>0.360782</td>\n",
       "      <td>31.489924</td>\n",
       "    </tr>\n",
       "    <tr>\n",
       "      <th>4</th>\n",
       "      <td>4</td>\n",
       "      <td>0.179927</td>\n",
       "      <td>-1.985673</td>\n",
       "      <td>1.390812</td>\n",
       "      <td>0.409958</td>\n",
       "      <td>-0.113903</td>\n",
       "      <td>0.978904</td>\n",
       "      <td>0</td>\n",
       "      <td>1.409835</td>\n",
       "      <td>1.714243</td>\n",
       "      <td>0.991648</td>\n",
       "      <td>1.403523</td>\n",
       "      <td>-54.767962</td>\n",
       "      <td>4.244606</td>\n",
       "      <td>0.300865</td>\n",
       "      <td>0.696860</td>\n",
       "      <td>0.750439</td>\n",
       "      <td>0.616250</td>\n",
       "      <td>-6.125888</td>\n",
       "      <td>22.586656</td>\n",
       "    </tr>\n",
       "  </tbody>\n",
       "</table>\n",
       "</div>"
      ],
      "text/plain": [
       "   Frame  Right Hand x  Right Hand y  Right Hand z  Left Hand x  Left Hand y  \\\n",
       "0      0      0.311465     -0.329472      0.750763     0.906499    -0.024053   \n",
       "1      1      0.563723     -0.088187      1.033415     0.917992     0.172597   \n",
       "2      2      0.474087     -0.922834      0.802289     0.813233     0.054823   \n",
       "3      3      0.690891     -1.622115      0.393867     0.557506     0.006721   \n",
       "4      4      0.179927     -1.985673      1.390812     0.409958    -0.113903   \n",
       "\n",
       "   Left Hand z  class  rmsq_right_xy  rmsq_right_yz  rmsq_right_xz  \\\n",
       "0     0.779686      0       0.320595       0.579740       0.574742   \n",
       "1     0.860215      0       0.403460       0.733391       0.832385   \n",
       "2     0.709743      0       0.733615       0.864665       0.658948   \n",
       "3     0.910102      0       1.246713       1.180336       0.562344   \n",
       "4     0.978904      0       1.409835       1.714243       0.991648   \n",
       "\n",
       "   rmsq_right_xyz  right_hand_roll  right_hand_pitch  rmsq_left_xy  \\\n",
       "0        0.506362       -22.065225         20.801413      0.641217   \n",
       "1        0.681544        -4.284295         28.524936      0.660492   \n",
       "2        0.757199       -44.720146         21.191281      0.576348   \n",
       "3        1.043027       -63.882655         22.484355      0.394245   \n",
       "4        1.403523       -54.767962          4.244606      0.300865   \n",
       "\n",
       "   rmsq_left_yz  rmsq_left_xz  rmsq_left_xyz  left_hand_roll  left_hand_pitch  \n",
       "0      0.551584      0.845473       0.690466       -1.152438        49.287457  \n",
       "1      0.620387      0.889573       0.733137        7.811881        46.296499  \n",
       "2      0.503359      0.763244       0.623990        2.907617        48.802990  \n",
       "3      0.643557      0.754685       0.616210        0.360782        31.489924  \n",
       "4      0.696860      0.750439       0.616250       -6.125888        22.586656  "
      ]
     },
     "execution_count": 5,
     "metadata": {},
     "output_type": "execute_result"
    }
   ],
   "source": [
    "df.head()"
   ]
  },
  {
   "cell_type": "markdown",
   "metadata": {},
   "source": [
    "# 3 - Data pre-processing and feature computation  "
   ]
  },
  {
   "cell_type": "code",
   "execution_count": 6,
   "metadata": {},
   "outputs": [],
   "source": [
    "import pandas as pd\n",
    "import numpy as np\n",
    "\n",
    "from scipy.signal import find_peaks\n",
    "from scipy import integrate \n",
    "\n",
    "def calculate_auc(y):\n",
    "     return np.trapz(y) # calculate the area under the curve using the composite trapezoidal rule\n",
    "\n",
    "def calculate_peaks(y):\n",
    "    peaks, _ = find_peaks(y)\n",
    "    return len(peaks)\n",
    "\n",
    "frames_per_minutes = 60\n",
    "\n",
    "number_of_minutes = len(df) // frames_per_minutes\n",
    "\n",
    "new_columns = {}\n",
    "\n",
    "for column in df.columns:\n",
    "    if column not in ['Frame', 'class']:\n",
    "\n",
    "        # Initialize lists to hold the new features values for each chunk\n",
    "        mean_values = []\n",
    "        max_values = []\n",
    "        min_values = []\n",
    "        std_values = []\n",
    "        auc_values = []\n",
    "        peak_values = []\n",
    "\n",
    "        # Loop through each chunk\n",
    "        for i in range(number_of_minutes):\n",
    "            start = i * frames_per_minutes\n",
    "            end = (i + 1) * frames_per_minutes\n",
    "\n",
    "            # Calculate the mean, max, min and std values for the chunk\n",
    "            mean_values.append(np.mean(df[column][start:end]))\n",
    "            max_values.append(np.max(df[column][start:end]))\n",
    "            min_values.append(np.min(df[column][start:end]))\n",
    "            std_values.append(np.std(df[column][start:end]))\n",
    "\n",
    "            # Calculate the area under the curve for the chunk\n",
    "            auc_values.append(calculate_auc(df[column][start:end]))\n",
    "            # auc_values.append(integrate.trapz(df[column][start:end]))\n",
    "\n",
    "            # Calculate the number of peaks for the chunk\n",
    "            peak_values.append(calculate_peaks(df[column][start:end]))\n",
    "\n",
    "        # Add the new features to the new_features_df\n",
    "        new_columns[f'{column}_mean'] = mean_values\n",
    "        new_columns[f'{column}_max'] = max_values\n",
    "        new_columns[f'{column}_min'] = min_values\n",
    "        new_columns[f'{column}_std'] = std_values\n",
    "        new_columns[f'{column}_auc'] = auc_values\n",
    "        new_columns[f'{column}_peak'] = peak_values\n",
    "\n",
    "\n",
    "#Convert the new columns to a dataframe to avoid fragmentation issues\n",
    "new_features_df = pd.DataFrame(new_columns)\n",
    "\n",
    "new_features_df['class'] = df['class'][::frames_per_minutes].reset_index(drop=True)\n",
    "\n",
    "new_features_df[\"Minute\"] = range(1, number_of_minutes + 1)"
   ]
  },
  {
   "cell_type": "code",
   "execution_count": 7,
   "metadata": {},
   "outputs": [
    {
     "data": {
      "text/html": [
       "<div>\n",
       "<style scoped>\n",
       "    .dataframe tbody tr th:only-of-type {\n",
       "        vertical-align: middle;\n",
       "    }\n",
       "\n",
       "    .dataframe tbody tr th {\n",
       "        vertical-align: top;\n",
       "    }\n",
       "\n",
       "    .dataframe thead th {\n",
       "        text-align: right;\n",
       "    }\n",
       "</style>\n",
       "<table border=\"1\" class=\"dataframe\">\n",
       "  <thead>\n",
       "    <tr style=\"text-align: right;\">\n",
       "      <th></th>\n",
       "      <th>Right Hand x_mean</th>\n",
       "      <th>Right Hand x_max</th>\n",
       "      <th>Right Hand x_min</th>\n",
       "      <th>Right Hand x_std</th>\n",
       "      <th>Right Hand x_auc</th>\n",
       "      <th>Right Hand x_peak</th>\n",
       "      <th>Right Hand y_mean</th>\n",
       "      <th>Right Hand y_max</th>\n",
       "      <th>Right Hand y_min</th>\n",
       "      <th>Right Hand y_std</th>\n",
       "      <th>...</th>\n",
       "      <th>left_hand_roll_auc</th>\n",
       "      <th>left_hand_roll_peak</th>\n",
       "      <th>left_hand_pitch_mean</th>\n",
       "      <th>left_hand_pitch_max</th>\n",
       "      <th>left_hand_pitch_min</th>\n",
       "      <th>left_hand_pitch_std</th>\n",
       "      <th>left_hand_pitch_auc</th>\n",
       "      <th>left_hand_pitch_peak</th>\n",
       "      <th>class</th>\n",
       "      <th>Minute</th>\n",
       "    </tr>\n",
       "  </thead>\n",
       "  <tbody>\n",
       "    <tr>\n",
       "      <th>0</th>\n",
       "      <td>-0.311031</td>\n",
       "      <td>0.975918</td>\n",
       "      <td>-2.043227</td>\n",
       "      <td>0.669141</td>\n",
       "      <td>-18.759286</td>\n",
       "      <td>11</td>\n",
       "      <td>0.259466</td>\n",
       "      <td>2.644213</td>\n",
       "      <td>-2.158896</td>\n",
       "      <td>1.225220</td>\n",
       "      <td>...</td>\n",
       "      <td>699.334334</td>\n",
       "      <td>10</td>\n",
       "      <td>8.087924</td>\n",
       "      <td>49.287457</td>\n",
       "      <td>-71.899155</td>\n",
       "      <td>30.851966</td>\n",
       "      <td>477.251000</td>\n",
       "      <td>12</td>\n",
       "      <td>0</td>\n",
       "      <td>1</td>\n",
       "    </tr>\n",
       "    <tr>\n",
       "      <th>1</th>\n",
       "      <td>0.075778</td>\n",
       "      <td>1.635237</td>\n",
       "      <td>-3.111945</td>\n",
       "      <td>0.788082</td>\n",
       "      <td>5.078385</td>\n",
       "      <td>10</td>\n",
       "      <td>-0.002281</td>\n",
       "      <td>2.655147</td>\n",
       "      <td>-2.613755</td>\n",
       "      <td>0.939123</td>\n",
       "      <td>...</td>\n",
       "      <td>-330.119286</td>\n",
       "      <td>10</td>\n",
       "      <td>11.164972</td>\n",
       "      <td>81.295218</td>\n",
       "      <td>-75.865334</td>\n",
       "      <td>40.387145</td>\n",
       "      <td>686.671066</td>\n",
       "      <td>13</td>\n",
       "      <td>0</td>\n",
       "      <td>2</td>\n",
       "    </tr>\n",
       "    <tr>\n",
       "      <th>2</th>\n",
       "      <td>-0.119980</td>\n",
       "      <td>5.057009</td>\n",
       "      <td>-3.617915</td>\n",
       "      <td>1.273070</td>\n",
       "      <td>-9.452100</td>\n",
       "      <td>12</td>\n",
       "      <td>0.308408</td>\n",
       "      <td>21.786469</td>\n",
       "      <td>-8.042419</td>\n",
       "      <td>4.464981</td>\n",
       "      <td>...</td>\n",
       "      <td>701.970631</td>\n",
       "      <td>12</td>\n",
       "      <td>-0.198978</td>\n",
       "      <td>81.114644</td>\n",
       "      <td>-84.154037</td>\n",
       "      <td>53.161508</td>\n",
       "      <td>22.806267</td>\n",
       "      <td>13</td>\n",
       "      <td>0</td>\n",
       "      <td>3</td>\n",
       "    </tr>\n",
       "    <tr>\n",
       "      <th>3</th>\n",
       "      <td>0.518796</td>\n",
       "      <td>8.306838</td>\n",
       "      <td>-6.908622</td>\n",
       "      <td>3.852492</td>\n",
       "      <td>29.792931</td>\n",
       "      <td>11</td>\n",
       "      <td>-0.840938</td>\n",
       "      <td>5.990830</td>\n",
       "      <td>-7.600437</td>\n",
       "      <td>3.389112</td>\n",
       "      <td>...</td>\n",
       "      <td>200.253636</td>\n",
       "      <td>11</td>\n",
       "      <td>-9.874386</td>\n",
       "      <td>86.032372</td>\n",
       "      <td>-87.751140</td>\n",
       "      <td>52.511539</td>\n",
       "      <td>-544.757462</td>\n",
       "      <td>11</td>\n",
       "      <td>0</td>\n",
       "      <td>4</td>\n",
       "    </tr>\n",
       "    <tr>\n",
       "      <th>4</th>\n",
       "      <td>0.017641</td>\n",
       "      <td>19.586288</td>\n",
       "      <td>-9.171689</td>\n",
       "      <td>6.453003</td>\n",
       "      <td>4.147590</td>\n",
       "      <td>13</td>\n",
       "      <td>0.201503</td>\n",
       "      <td>15.643516</td>\n",
       "      <td>-46.409132</td>\n",
       "      <td>10.438612</td>\n",
       "      <td>...</td>\n",
       "      <td>-422.739921</td>\n",
       "      <td>10</td>\n",
       "      <td>1.097838</td>\n",
       "      <td>82.048396</td>\n",
       "      <td>-70.864485</td>\n",
       "      <td>42.093406</td>\n",
       "      <td>100.589707</td>\n",
       "      <td>10</td>\n",
       "      <td>0</td>\n",
       "      <td>5</td>\n",
       "    </tr>\n",
       "  </tbody>\n",
       "</table>\n",
       "<p>5 rows × 110 columns</p>\n",
       "</div>"
      ],
      "text/plain": [
       "   Right Hand x_mean  Right Hand x_max  Right Hand x_min  Right Hand x_std  \\\n",
       "0          -0.311031          0.975918         -2.043227          0.669141   \n",
       "1           0.075778          1.635237         -3.111945          0.788082   \n",
       "2          -0.119980          5.057009         -3.617915          1.273070   \n",
       "3           0.518796          8.306838         -6.908622          3.852492   \n",
       "4           0.017641         19.586288         -9.171689          6.453003   \n",
       "\n",
       "   Right Hand x_auc  Right Hand x_peak  Right Hand y_mean  Right Hand y_max  \\\n",
       "0        -18.759286                 11           0.259466          2.644213   \n",
       "1          5.078385                 10          -0.002281          2.655147   \n",
       "2         -9.452100                 12           0.308408         21.786469   \n",
       "3         29.792931                 11          -0.840938          5.990830   \n",
       "4          4.147590                 13           0.201503         15.643516   \n",
       "\n",
       "   Right Hand y_min  Right Hand y_std  ...  left_hand_roll_auc  \\\n",
       "0         -2.158896          1.225220  ...          699.334334   \n",
       "1         -2.613755          0.939123  ...         -330.119286   \n",
       "2         -8.042419          4.464981  ...          701.970631   \n",
       "3         -7.600437          3.389112  ...          200.253636   \n",
       "4        -46.409132         10.438612  ...         -422.739921   \n",
       "\n",
       "   left_hand_roll_peak  left_hand_pitch_mean  left_hand_pitch_max  \\\n",
       "0                   10              8.087924            49.287457   \n",
       "1                   10             11.164972            81.295218   \n",
       "2                   12             -0.198978            81.114644   \n",
       "3                   11             -9.874386            86.032372   \n",
       "4                   10              1.097838            82.048396   \n",
       "\n",
       "   left_hand_pitch_min  left_hand_pitch_std  left_hand_pitch_auc  \\\n",
       "0           -71.899155            30.851966           477.251000   \n",
       "1           -75.865334            40.387145           686.671066   \n",
       "2           -84.154037            53.161508            22.806267   \n",
       "3           -87.751140            52.511539          -544.757462   \n",
       "4           -70.864485            42.093406           100.589707   \n",
       "\n",
       "   left_hand_pitch_peak  class  Minute  \n",
       "0                    12      0       1  \n",
       "1                    13      0       2  \n",
       "2                    13      0       3  \n",
       "3                    11      0       4  \n",
       "4                    10      0       5  \n",
       "\n",
       "[5 rows x 110 columns]"
      ]
     },
     "execution_count": 7,
     "metadata": {},
     "output_type": "execute_result"
    }
   ],
   "source": [
    "new_features_df.to_csv('data/new_features_per_min.csv', index=False)\n",
    "new_features_df.head()"
   ]
  },
  {
   "cell_type": "markdown",
   "metadata": {},
   "source": [
    "# 4 - Training  "
   ]
  },
  {
   "cell_type": "markdown",
   "metadata": {},
   "source": [
    "## 4.1 - Train-test split training"
   ]
  },
  {
   "cell_type": "markdown",
   "metadata": {},
   "source": [
    "### Data spliting"
   ]
  },
  {
   "cell_type": "code",
   "execution_count": 8,
   "metadata": {},
   "outputs": [],
   "source": [
    "import pandas as pd\n",
    "\n",
    "from sklearn import svm\n",
    "from sklearn.model_selection import train_test_split\n",
    "from sklearn.metrics import accuracy_score\n",
    "\n",
    "df = pd.read_csv('data/new_features_per_min.csv')\n",
    "\n",
    "X = df.drop(['class', 'Minute'], axis=1)\n",
    "y = df['class']\n",
    "\n",
    "X_train, X_test, y_train, y_test = train_test_split(X, y, test_size=0.3, random_state=42)\n"
   ]
  },
  {
   "cell_type": "markdown",
   "metadata": {},
   "source": [
    "### Train model"
   ]
  },
  {
   "cell_type": "code",
   "execution_count": 14,
   "metadata": {},
   "outputs": [],
   "source": [
    "clf = svm.SVC(kernel='linear')\n",
    "clf.fit(X_train, y_train)\n",
    "\n",
    "y_pred = clf.predict(X_test)\n",
    "result = accuracy_score(y_test, y_pred)"
   ]
  },
  {
   "cell_type": "code",
   "execution_count": 12,
   "metadata": {},
   "outputs": [
    {
     "data": {
      "text/plain": [
       "'Training accuracy: 77.008310%'"
      ]
     },
     "execution_count": 12,
     "metadata": {},
     "output_type": "execute_result"
    }
   ],
   "source": [
    "f\"Training accuracy: {result*100:2f}%\""
   ]
  },
  {
   "cell_type": "markdown",
   "metadata": {},
   "source": [
    "## 4.2 - 10-fold Cross-validation "
   ]
  },
  {
   "cell_type": "code",
   "execution_count": 13,
   "metadata": {},
   "outputs": [
    {
     "data": {
      "text/plain": [
       "'Cross-validation mean accuracy: 75.69%'"
      ]
     },
     "execution_count": 13,
     "metadata": {},
     "output_type": "execute_result"
    }
   ],
   "source": [
    "from sklearn import svm\n",
    "from sklearn.model_selection import cross_val_score\n",
    "\n",
    "clf = svm.SVC()\n",
    "\n",
    "scores = cross_val_score(clf, X, y, cv=10)\n",
    "\n",
    "result = scores.mean()\n",
    "\n",
    "f\"Cross-validation mean accuracy: {result * 100:.2f}%\""
   ]
  },
  {
   "cell_type": "markdown",
   "metadata": {},
   "source": [
    "## 4.3 - Train-test split and cross validation with Hyperparameter tuning\n"
   ]
  },
  {
   "cell_type": "markdown",
   "metadata": {},
   "source": [
    "### 4.3.1 - Use GridSearchCV to find the best parameters for the SVM model"
   ]
  },
  {
   "cell_type": "code",
   "execution_count": null,
   "metadata": {},
   "outputs": [
    {
     "name": "stdout",
     "output_type": "stream",
     "text": [
      "Fitting 5 folds for each of 50 candidates, totalling 250 fits\n",
      "[CV 1/5] END ........C=0.1, gamma=1, kernel=rbf;, score=0.744 total time=   0.0s\n",
      "[CV 2/5] END ........C=0.1, gamma=1, kernel=rbf;, score=0.744 total time=   0.0s\n",
      "[CV 3/5] END ........C=0.1, gamma=1, kernel=rbf;, score=0.744 total time=   0.0s\n",
      "[CV 4/5] END ........C=0.1, gamma=1, kernel=rbf;, score=0.744 total time=   0.0s\n",
      "[CV 5/5] END ........C=0.1, gamma=1, kernel=rbf;, score=0.738 total time=   0.0s\n"
     ]
    }
   ],
   "source": [
    "from sklearn.svm import SVC\n",
    "from sklearn.model_selection import GridSearchCV\n",
    "\n",
    "param_grid = {\n",
    "    'C' : [0.1, 1, 10, 100, 1000],\n",
    "    'gamma' : [1, 0.1, 0.01, 0.001, 0.0001],\n",
    "    'kernel' : ['rbf', 'linear']\n",
    "}\n",
    "\n",
    "# Create a GridSearchCV object\n",
    "grid = GridSearchCV(SVC(), param_grid, refit=True, verbose=3)\n",
    "\n",
    "# Fit the model\n",
    "grid.fit(X_train, y_train)\n",
    "\n",
    "# Get the best parameters\n",
    "grid.best_params_"
   ]
  },
  {
   "cell_type": "markdown",
   "metadata": {},
   "source": [
    "### 4.3.2 - Train-test split model training"
   ]
  },
  {
   "cell_type": "code",
   "execution_count": 48,
   "metadata": {},
   "outputs": [
    {
     "data": {
      "text/plain": [
       "'Train-test split training accuracy with hyperparameter tuning : 77.29%'"
      ]
     },
     "execution_count": 48,
     "metadata": {},
     "output_type": "execute_result"
    }
   ],
   "source": [
    "from sklearn.svm import SVC\n",
    "from sklearn.metrics import accuracy_score\n",
    "\n",
    "best_C = grid.best_params_['C']\n",
    "best_gamma = grid.best_params_['gamma']\n",
    "best_kernel = grid.best_params_['kernel']\n",
    "\n",
    "# Create a new model with the best parameters\n",
    "clf_hyp = SVC(C=best_C, gamma=best_gamma, kernel='rbf')\n",
    "\n",
    "# Fit the model\n",
    "clf_hyp.fit(X_train, y_train)\n",
    "\n",
    "y_pred_hyp = clf_hyp.predict(X_test)\n",
    "result = accuracy_score(y_test, y_pred_hyp)\n",
    "\n",
    "f'Train-test split training accuracy with hyperparameter tuning : {result * 100:.2f}%'"
   ]
  },
  {
   "cell_type": "markdown",
   "metadata": {},
   "source": [
    "### 4.3.3 - Cross validation accuracy score"
   ]
  },
  {
   "cell_type": "code",
   "execution_count": 38,
   "metadata": {},
   "outputs": [
    {
     "data": {
      "text/plain": [
       "'Cross-validation training mean accuracy with hyperparameter tuning : 75.19%'"
      ]
     },
     "execution_count": 38,
     "metadata": {},
     "output_type": "execute_result"
    }
   ],
   "source": [
    "from sklearn.model_selection import cross_val_score\n",
    "\n",
    "scores = cross_val_score(clf_hyp, X, y, cv=10)\n",
    "\n",
    "result = scores.mean()\n",
    "\n",
    "f'Cross-validation training mean accuracy with hyperparameter tuning : {result * 100:.2f}%'"
   ]
  },
  {
   "cell_type": "markdown",
   "metadata": {},
   "source": [
    "## 4.4 - Train-test split and cross validation with Hyperparameter tuning + Feature selection\n"
   ]
  },
  {
   "cell_type": "markdown",
   "metadata": {},
   "source": [
    "### 4.4.1 - Select features and split data based on selected features"
   ]
  },
  {
   "cell_type": "code",
   "execution_count": 50,
   "metadata": {},
   "outputs": [],
   "source": [
    "from sklearn.feature_selection import SelectKBest, f_classif\n",
    "from sklearn.model_selection import train_test_split\n",
    "from sklearn.pipeline import Pipeline\n",
    "\n",
    "df = pd.read_csv('data/new_features_per_min.csv')\n",
    "\n",
    "X = df.drop(['class', 'Minute'], axis=1)\n",
    "y = df['class']\n",
    "\n",
    "# Create a SelectKBest object\n",
    "selector = SelectKBest(f_classif, k=10)\n",
    "\n",
    "X_selected = selector.fit_transform(X, y)\n",
    "\n",
    "X_train, X_test, y_train, y_test = train_test_split(X_selected, y, test_size=0.3, random_state=42)"
   ]
  },
  {
   "cell_type": "markdown",
   "metadata": {},
   "source": [
    "### 4.4.2 - Train-test split model training"
   ]
  },
  {
   "cell_type": "code",
   "execution_count": 51,
   "metadata": {},
   "outputs": [
    {
     "data": {
      "text/plain": [
       "'Train-test split accuracy with selected features : 77.29%'"
      ]
     },
     "execution_count": 51,
     "metadata": {},
     "output_type": "execute_result"
    }
   ],
   "source": [
    "from sklearn.svm import SVC\n",
    "from sklearn.metrics import accuracy_score\n",
    "\n",
    "clf = SVC(C=best_C, gamma=best_gamma, kernel=best_kernel)\n",
    "\n",
    "pipeline = Pipeline([\n",
    "    ('feature_selection', selector),\n",
    "    ('svc', clf_hyp)\n",
    "])\n",
    "\n",
    "pipeline.fit(X_train, y_train)\n",
    "\n",
    "y_pred = pipeline.predict(X_test)\n",
    "result = accuracy_score(y_test, y_pred)\n",
    "\n",
    "f'Train-test split accuracy with selected features : {result * 100:.2f}%'"
   ]
  },
  {
   "cell_type": "markdown",
   "metadata": {},
   "source": [
    "### 4.4.3 - Cross validation accuracy score"
   ]
  },
  {
   "cell_type": "code",
   "execution_count": 42,
   "metadata": {},
   "outputs": [
    {
     "data": {
      "text/plain": [
       "'Cross-validation mean accuracy with selected features : 75.19%'"
      ]
     },
     "execution_count": 42,
     "metadata": {},
     "output_type": "execute_result"
    }
   ],
   "source": [
    "from sklearn.model_selection import cross_val_score\n",
    "\n",
    "scores = cross_val_score(clf_hyp, X_selected, y, cv=10)\n",
    "\n",
    "result = scores.mean()\n",
    "\n",
    "f'Cross-validation mean accuracy with selected features : {result * 100:.2f}%'"
   ]
  },
  {
   "cell_type": "markdown",
   "metadata": {},
   "source": [
    "## 4.5 - Train-test split and cross validation with Hyperparameter tuning + Dimensionality reduction\n"
   ]
  },
  {
   "cell_type": "markdown",
   "metadata": {},
   "source": [
    "### 4.5.1 - Preform PCA to reduce dimensionality to 10 first principle components"
   ]
  },
  {
   "cell_type": "code",
   "execution_count": 43,
   "metadata": {},
   "outputs": [],
   "source": [
    "from sklearn.decomposition import PCA\n",
    "from sklearn.model_selection import train_test_split\n",
    "\n",
    "pca = PCA(n_components=10)\n",
    "\n",
    "X_pca = pca.fit_transform(X)\n",
    "\n",
    "X_train, X_test, y_train, y_test = train_test_split(X_pca, y, test_size=0.3, random_state=42)"
   ]
  },
  {
   "cell_type": "markdown",
   "metadata": {},
   "source": [
    "### 4.5.2 - Train-test split model training"
   ]
  },
  {
   "cell_type": "code",
   "execution_count": 45,
   "metadata": {},
   "outputs": [
    {
     "data": {
      "text/plain": [
       "'Train-test split accuracy with PCA : 77.29%'"
      ]
     },
     "execution_count": 45,
     "metadata": {},
     "output_type": "execute_result"
    }
   ],
   "source": [
    "from sklearn.svm import SVC\n",
    "from sklearn.metrics import accuracy_score\n",
    "\n",
    "clf = SVC(C=best_C, gamma=best_gamma, kernel=best_kernel)\n",
    "\n",
    "clf.fit(X_train, y_train)\n",
    "\n",
    "y_pred = clf.predict(X_test)\n",
    "\n",
    "result = accuracy_score(y_test, y_pred)\n",
    "\n",
    "f'Train-test split accuracy with PCA : {result * 100:.2f}%'"
   ]
  },
  {
   "cell_type": "markdown",
   "metadata": {},
   "source": [
    "### 4.5.3 - Cross validation accuracy score"
   ]
  },
  {
   "cell_type": "code",
   "execution_count": 46,
   "metadata": {},
   "outputs": [
    {
     "data": {
      "text/plain": [
       "'Cross-validation mean accuracy with PCA : 75.19%'"
      ]
     },
     "execution_count": 46,
     "metadata": {},
     "output_type": "execute_result"
    }
   ],
   "source": [
    "from sklearn.model_selection import cross_val_score\n",
    "\n",
    "scores = cross_val_score(clf, X_pca, y, cv=10)\n",
    "\n",
    "result = scores.mean()\n",
    "\n",
    "f'Cross-validation mean accuracy with PCA : {result * 100:.2f}%'"
   ]
  },
  {
   "cell_type": "markdown",
   "metadata": {},
   "source": [
    "# 5 - Other models"
   ]
  },
  {
   "cell_type": "markdown",
   "metadata": {},
   "source": [
    "## Import libraries and load data"
   ]
  },
  {
   "cell_type": "code",
   "execution_count": 53,
   "metadata": {},
   "outputs": [],
   "source": [
    "import pandas as pd\n",
    "import numpy as np\n",
    "\n",
    "from sklearn.linear_model import SGDClassifier\n",
    "from sklearn.ensemble import RandomForestClassifier\n",
    "from sklearn.neural_network import MLPClassifier\n",
    "\n",
    "from sklearn.model_selection import train_test_split, cross_val_score\n",
    "from sklearn.metrics import accuracy_score\n",
    "\n",
    "df = pd.read_csv('data/new_features_per_min.csv')\n",
    "\n",
    "X = df.drop(['class', 'Minute'], axis=1)\n",
    "y = df['class']\n",
    "\n",
    "X_train, X_test, y_train, y_test = train_test_split(X, y, test_size=0.3, random_state=42)"
   ]
  },
  {
   "cell_type": "markdown",
   "metadata": {},
   "source": [
    "## 5.1 - SGD ()"
   ]
  },
  {
   "cell_type": "code",
   "execution_count": 54,
   "metadata": {},
   "outputs": [
    {
     "data": {
      "text/plain": [
       "'SGDClassifier train-test split accuracy : 73.96%'"
      ]
     },
     "execution_count": 54,
     "metadata": {},
     "output_type": "execute_result"
    }
   ],
   "source": [
    "sgd_model = SGDClassifier(random_state=42)\n",
    "\n",
    "sgd_model.fit(X_train, y_train)\n",
    "\n",
    "y_pred = sgd_model.predict(X_test)\n",
    "\n",
    "result = accuracy_score(y_test, y_pred)\n",
    "\n",
    "f'SGDClassifier train-test split accuracy : {result * 100:.2f}%'"
   ]
  },
  {
   "cell_type": "code",
   "execution_count": 55,
   "metadata": {},
   "outputs": [
    {
     "data": {
      "text/plain": [
       "'SGDClassifier cross-validation mean accuracy : 74.02%'"
      ]
     },
     "execution_count": 55,
     "metadata": {},
     "output_type": "execute_result"
    }
   ],
   "source": [
    "scores = cross_val_score(sgd_model, X, y, cv=10)\n",
    "\n",
    "result = scores.mean()\n",
    "\n",
    "f'SGDClassifier cross-validation mean accuracy : {result * 100:.2f}%'"
   ]
  },
  {
   "cell_type": "markdown",
   "metadata": {},
   "source": [
    "## 5.2 - Random Forest Classifier"
   ]
  },
  {
   "cell_type": "code",
   "execution_count": 56,
   "metadata": {},
   "outputs": [
    {
     "data": {
      "text/plain": [
       "'RandomForestClassifier train-test split accuracy : 84.76%'"
      ]
     },
     "execution_count": 56,
     "metadata": {},
     "output_type": "execute_result"
    }
   ],
   "source": [
    "rf_model = RandomForestClassifier(random_state=42)\n",
    "\n",
    "rf_model.fit(X_train, y_train)\n",
    "\n",
    "y_pred = rf_model.predict(X_test)\n",
    "\n",
    "result = accuracy_score(y_test, y_pred)\n",
    "\n",
    "f'RandomForestClassifier train-test split accuracy : {result * 100:.2f}%'"
   ]
  },
  {
   "cell_type": "code",
   "execution_count": 57,
   "metadata": {},
   "outputs": [
    {
     "data": {
      "text/plain": [
       "'RandomForestClassifier cross-validation mean accuracy : 84.26%'"
      ]
     },
     "execution_count": 57,
     "metadata": {},
     "output_type": "execute_result"
    }
   ],
   "source": [
    "scores = cross_val_score(rf_model, X, y, cv=10)\n",
    "\n",
    "result = scores.mean()\n",
    "\n",
    "f'RandomForestClassifier cross-validation mean accuracy : {result * 100:.2f}%'"
   ]
  },
  {
   "cell_type": "markdown",
   "metadata": {},
   "source": [
    "## 5.3 - MLP Classifier"
   ]
  },
  {
   "cell_type": "code",
   "execution_count": 58,
   "metadata": {},
   "outputs": [
    {
     "data": {
      "text/plain": [
       "'MLPClassifier train-test split accuracy : 77.01%'"
      ]
     },
     "execution_count": 58,
     "metadata": {},
     "output_type": "execute_result"
    }
   ],
   "source": [
    "mlp_model = MLPClassifier(random_state=42) \n",
    "\n",
    "mlp_model.fit(X_train, y_train)\n",
    "\n",
    "y_pred = mlp_model.predict(X_test)\n",
    "\n",
    "result = accuracy_score(y_test, y_pred)\n",
    "\n",
    "f'MLPClassifier train-test split accuracy : {result * 100:.2f}%'"
   ]
  },
  {
   "cell_type": "code",
   "execution_count": 59,
   "metadata": {},
   "outputs": [
    {
     "name": "stderr",
     "output_type": "stream",
     "text": [
      "c:\\Users\\quang\\src\\uni\\2024-sem2\\cos40007\\venv\\Lib\\site-packages\\sklearn\\neural_network\\_multilayer_perceptron.py:690: ConvergenceWarning: Stochastic Optimizer: Maximum iterations (200) reached and the optimization hasn't converged yet.\n",
      "  warnings.warn(\n",
      "c:\\Users\\quang\\src\\uni\\2024-sem2\\cos40007\\venv\\Lib\\site-packages\\sklearn\\neural_network\\_multilayer_perceptron.py:690: ConvergenceWarning: Stochastic Optimizer: Maximum iterations (200) reached and the optimization hasn't converged yet.\n",
      "  warnings.warn(\n",
      "c:\\Users\\quang\\src\\uni\\2024-sem2\\cos40007\\venv\\Lib\\site-packages\\sklearn\\neural_network\\_multilayer_perceptron.py:690: ConvergenceWarning: Stochastic Optimizer: Maximum iterations (200) reached and the optimization hasn't converged yet.\n",
      "  warnings.warn(\n",
      "c:\\Users\\quang\\src\\uni\\2024-sem2\\cos40007\\venv\\Lib\\site-packages\\sklearn\\neural_network\\_multilayer_perceptron.py:690: ConvergenceWarning: Stochastic Optimizer: Maximum iterations (200) reached and the optimization hasn't converged yet.\n",
      "  warnings.warn(\n"
     ]
    },
    {
     "data": {
      "text/plain": [
       "'MLPClassifier cross-validation mean accuracy : 75.27%'"
      ]
     },
     "execution_count": 59,
     "metadata": {},
     "output_type": "execute_result"
    }
   ],
   "source": [
    "scores = cross_val_score(mlp_model, X, y, cv=10)\n",
    "\n",
    "result = scores.mean()\n",
    "\n",
    "f'MLPClassifier cross-validation mean accuracy : {result * 100:.2f}%'"
   ]
  },
  {
   "cell_type": "code",
   "execution_count": null,
   "metadata": {},
   "outputs": [],
   "source": []
  }
 ],
 "metadata": {
  "kernelspec": {
   "display_name": "venv",
   "language": "python",
   "name": "python3"
  },
  "language_info": {
   "codemirror_mode": {
    "name": "ipython",
    "version": 3
   },
   "file_extension": ".py",
   "mimetype": "text/x-python",
   "name": "python",
   "nbconvert_exporter": "python",
   "pygments_lexer": "ipython3",
   "version": "3.12.3"
  }
 },
 "nbformat": 4,
 "nbformat_minor": 2
}
