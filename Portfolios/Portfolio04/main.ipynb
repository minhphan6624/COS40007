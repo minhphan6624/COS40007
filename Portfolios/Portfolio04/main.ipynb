{
 "cells": [
  {
   "cell_type": "code",
   "execution_count": 2,
   "metadata": {},
   "outputs": [],
   "source": [
    "import pandas as pd\n",
    "import numpy as np"
   ]
  },
  {
   "cell_type": "markdown",
   "metadata": {},
   "source": [
    "# Data preparation"
   ]
  },
  {
   "cell_type": "markdown",
   "metadata": {},
   "source": [
    "## Read and shuffle data"
   ]
  },
  {
   "cell_type": "code",
   "execution_count": 5,
   "metadata": {},
   "outputs": [
    {
     "name": "stdout",
     "output_type": "stream",
     "text": [
      "<class 'pandas.core.frame.DataFrame'>\n",
      "RangeIndex: 15237 entries, 0 to 15236\n",
      "Data columns (total 47 columns):\n",
      " #   Column                         Non-Null Count  Dtype  \n",
      "---  ------                         --------------  -----  \n",
      " 0   FFTE Feed tank level SP        15237 non-null  float64\n",
      " 1   FFTE Production solids SP      15237 non-null  float64\n",
      " 2   FFTE Steam pressure SP         15237 non-null  float64\n",
      " 3   TFE Out flow SP                15237 non-null  float64\n",
      " 4   TFE Production solids SP       15237 non-null  float64\n",
      " 5   TFE Vacuum pressure SP         15237 non-null  float64\n",
      " 6   TFE Steam pressure SP          15237 non-null  float64\n",
      " 7   TFE Steam temperature SP       15237 non-null  float64\n",
      " 8   FFTE Feed flow SP              15237 non-null  float64\n",
      " 9   FFTE Out steam temp SP         15237 non-null  float64\n",
      " 10  Extract tank Level             15237 non-null  float64\n",
      " 11  Extract tank Out flow PV       15237 non-null  float64\n",
      " 12  FFTE Discharge density         15237 non-null  float64\n",
      " 13  FFTE Discharge solids          15237 non-null  float64\n",
      " 14  FFTE Feed flow rate PV         15237 non-null  float64\n",
      " 15  FFTE Feed tank level PV        15237 non-null  float64\n",
      " 16  FFTE Heat temperature 1        15237 non-null  float64\n",
      " 17  FFTE Heat temperature 2        15237 non-null  float64\n",
      " 18  FFTE Heat temperature 3        15237 non-null  float64\n",
      " 19  FFTE Out steam temp PV         15237 non-null  float64\n",
      " 20  FFTE Production solids PV      15237 non-null  float64\n",
      " 21  FFTE Pump 1                    15237 non-null  float64\n",
      " 22  FFTE Pump 1 - 2                15237 non-null  float64\n",
      " 23  FFTE Pump 2                    15237 non-null  float64\n",
      " 24  FFTE Steam pressure PV         15237 non-null  float64\n",
      " 25  FFTE Temperature 1 - 1         15237 non-null  float64\n",
      " 26  FFTE Temperature 1 - 2         15237 non-null  float64\n",
      " 27  FFTE Temperature 2 - 1         15237 non-null  float64\n",
      " 28  FFTE Temperature 2 - 2         15237 non-null  float64\n",
      " 29  FFTE Temperature 3 - 1         15237 non-null  float64\n",
      " 30  FFTE Temperature 3 - 2         15237 non-null  float64\n",
      " 31  FFTE Unk Temperature           15237 non-null  float64\n",
      " 32  TFE Feed pump                  15237 non-null  float64\n",
      " 33  TFE Input flow PV              15237 non-null  float64\n",
      " 34  TFE Level                      15237 non-null  float64\n",
      " 35  TFE Motor current              15237 non-null  float64\n",
      " 36  TFE Motor speed                15237 non-null  float64\n",
      " 37  TFE Out flow PV                15237 non-null  float64\n",
      " 38  TFE Product out temperature    15237 non-null  float64\n",
      " 39  TFE Production solids PV       15237 non-null  float64\n",
      " 40  TFE Production solids density  15237 non-null  float64\n",
      " 41  TFE Steam pressure PV          15237 non-null  float64\n",
      " 42  TFE Steam temperature          15237 non-null  float64\n",
      " 43  TFE Tank level                 15237 non-null  float64\n",
      " 44  TFE Temperature                15237 non-null  float64\n",
      " 45  TFE Vacuum pressure PV         15237 non-null  float64\n",
      " 46  Class                          15237 non-null  int64  \n",
      "dtypes: float64(46), int64(1)\n",
      "memory usage: 5.5 MB\n"
     ]
    }
   ],
   "source": [
    "df = pd.read_csv('vegemite.csv')\n",
    "\n",
    "df = df.sample(n=len(df)).reset_index(drop=True)\n",
    "\n",
    "df.to_csv('vegemite_shuffled.csv', index=False)\n",
    "\n",
    "df.info()"
   ]
  },
  {
   "cell_type": "markdown",
   "metadata": {},
   "source": [
    "## Create training set with 1002 data points"
   ]
  },
  {
   "cell_type": "code",
   "execution_count": 24,
   "metadata": {},
   "outputs": [
    {
     "name": "stdout",
     "output_type": "stream",
     "text": [
      "Number of rows in the test/validation set: 1002\n",
      "Number of rows in the training set: 13335\n",
      "<class 'pandas.core.frame.DataFrame'>\n",
      "RangeIndex: 13335 entries, 0 to 13334\n",
      "Data columns (total 45 columns):\n",
      " #   Column                         Non-Null Count  Dtype  \n",
      "---  ------                         --------------  -----  \n",
      " 0   FFTE Feed tank level SP        13335 non-null  float64\n",
      " 1   FFTE Production solids SP      13335 non-null  float64\n",
      " 2   FFTE Steam pressure SP         13335 non-null  float64\n",
      " 3   TFE Out flow SP                13335 non-null  float64\n",
      " 4   TFE Production solids SP       13335 non-null  float64\n",
      " 5   TFE Vacuum pressure SP         13335 non-null  float64\n",
      " 6   TFE Steam pressure SP          13335 non-null  float64\n",
      " 7   FFTE Feed flow SP              13335 non-null  float64\n",
      " 8   FFTE Out steam temp SP         13335 non-null  float64\n",
      " 9   Extract tank Level             13335 non-null  float64\n",
      " 10  Extract tank Out flow PV       13335 non-null  float64\n",
      " 11  FFTE Discharge density         13335 non-null  float64\n",
      " 12  FFTE Discharge solids          13335 non-null  float64\n",
      " 13  FFTE Feed flow rate PV         13335 non-null  float64\n",
      " 14  FFTE Feed tank level PV        13335 non-null  float64\n",
      " 15  FFTE Heat temperature 1        13335 non-null  float64\n",
      " 16  FFTE Heat temperature 2        13335 non-null  float64\n",
      " 17  FFTE Heat temperature 3        13335 non-null  float64\n",
      " 18  FFTE Out steam temp PV         13335 non-null  float64\n",
      " 19  FFTE Production solids PV      13335 non-null  float64\n",
      " 20  FFTE Pump 1                    13335 non-null  float64\n",
      " 21  FFTE Pump 1 - 2                13335 non-null  float64\n",
      " 22  FFTE Pump 2                    13335 non-null  float64\n",
      " 23  FFTE Steam pressure PV         13335 non-null  float64\n",
      " 24  FFTE Temperature 1 - 1         13335 non-null  float64\n",
      " 25  FFTE Temperature 1 - 2         13335 non-null  float64\n",
      " 26  FFTE Temperature 2 - 1         13335 non-null  float64\n",
      " 27  FFTE Temperature 2 - 2         13335 non-null  float64\n",
      " 28  FFTE Temperature 3 - 1         13335 non-null  float64\n",
      " 29  FFTE Temperature 3 - 2         13335 non-null  float64\n",
      " 30  FFTE Unk Temperature           13335 non-null  float64\n",
      " 31  TFE Feed pump                  13335 non-null  float64\n",
      " 32  TFE Input flow PV              13335 non-null  float64\n",
      " 33  TFE Level                      13335 non-null  float64\n",
      " 34  TFE Motor current              13335 non-null  float64\n",
      " 35  TFE Motor speed                13335 non-null  float64\n",
      " 36  TFE Out flow PV                13335 non-null  float64\n",
      " 37  TFE Production solids PV       13335 non-null  float64\n",
      " 38  TFE Production solids density  13335 non-null  float64\n",
      " 39  TFE Steam pressure PV          13335 non-null  float64\n",
      " 40  TFE Steam temperature          13335 non-null  float64\n",
      " 41  TFE Tank level                 13335 non-null  float64\n",
      " 42  TFE Temperature                13335 non-null  float64\n",
      " 43  TFE Vacuum pressure PV         13335 non-null  float64\n",
      " 44  Class                          13335 non-null  int64  \n",
      "dtypes: float64(44), int64(1)\n",
      "memory usage: 4.6 MB\n"
     ]
    },
    {
     "name": "stderr",
     "output_type": "stream",
     "text": [
      "C:\\Users\\quang\\AppData\\Local\\Temp\\ipykernel_14696\\416569370.py:5: DeprecationWarning: DataFrameGroupBy.apply operated on the grouping columns. This behavior is deprecated, and in a future version of pandas the grouping columns will be excluded from the operation. Either pass `include_groups=False` to exclude the groupings or explicitly select the grouping columns after groupby to silence this warning.\n",
      "  sampled_df = df.groupby('Class').apply(lambda x: x.sample(samples_per_class)).reset_index(drop=True)\n"
     ]
    }
   ],
   "source": [
    "# Define the number of samples per class for the 1000 data points\n",
    "samples_per_class = 334  # Adjust this depending on your class distribution\n",
    "\n",
    "# Group by class and sample 1000 data points (e.g., 300 per class)\n",
    "sampled_df = df.groupby('Class').apply(lambda x: x.sample(samples_per_class)).reset_index(drop=True)\n",
    "\n",
    "# Remove the sampled 1000 data points from the original dataset to create the training set\n",
    "df = df.drop(sampled_df.index).reset_index(drop=True)\n",
    "\n",
    "print(f\"Number of rows in the test/validation set: {sampled_df.shape[0]}\")\n",
    "print(f\"Number of rows in the training set: {df.shape[0]}\")\n",
    "\n",
    "df.info()"
   ]
  },
  {
   "cell_type": "markdown",
   "metadata": {},
   "source": [
    "## Remove columns with constants"
   ]
  },
  {
   "cell_type": "code",
   "execution_count": 20,
   "metadata": {},
   "outputs": [
    {
     "name": "stdout",
     "output_type": "stream",
     "text": [
      "Columns removed: ['TFE Steam temperature SP', 'TFE Product out temperature']\n"
     ]
    }
   ],
   "source": [
    "constant_columns = [col for col in df.columns if df[col].nunique() == 1]\n",
    "\n",
    "# Remove those columns\n",
    "df = df.drop(columns=constant_columns)\n",
    "\n",
    "print(\"Columns removed:\", constant_columns)"
   ]
  },
  {
   "cell_type": "code",
   "execution_count": 21,
   "metadata": {},
   "outputs": [
    {
     "name": "stdout",
     "output_type": "stream",
     "text": [
      "<class 'pandas.core.frame.DataFrame'>\n",
      "RangeIndex: 14337 entries, 0 to 14336\n",
      "Data columns (total 45 columns):\n",
      " #   Column                         Non-Null Count  Dtype  \n",
      "---  ------                         --------------  -----  \n",
      " 0   FFTE Feed tank level SP        14337 non-null  float64\n",
      " 1   FFTE Production solids SP      14337 non-null  float64\n",
      " 2   FFTE Steam pressure SP         14337 non-null  float64\n",
      " 3   TFE Out flow SP                14337 non-null  float64\n",
      " 4   TFE Production solids SP       14337 non-null  float64\n",
      " 5   TFE Vacuum pressure SP         14337 non-null  float64\n",
      " 6   TFE Steam pressure SP          14337 non-null  float64\n",
      " 7   FFTE Feed flow SP              14337 non-null  float64\n",
      " 8   FFTE Out steam temp SP         14337 non-null  float64\n",
      " 9   Extract tank Level             14337 non-null  float64\n",
      " 10  Extract tank Out flow PV       14337 non-null  float64\n",
      " 11  FFTE Discharge density         14337 non-null  float64\n",
      " 12  FFTE Discharge solids          14337 non-null  float64\n",
      " 13  FFTE Feed flow rate PV         14337 non-null  float64\n",
      " 14  FFTE Feed tank level PV        14337 non-null  float64\n",
      " 15  FFTE Heat temperature 1        14337 non-null  float64\n",
      " 16  FFTE Heat temperature 2        14337 non-null  float64\n",
      " 17  FFTE Heat temperature 3        14337 non-null  float64\n",
      " 18  FFTE Out steam temp PV         14337 non-null  float64\n",
      " 19  FFTE Production solids PV      14337 non-null  float64\n",
      " 20  FFTE Pump 1                    14337 non-null  float64\n",
      " 21  FFTE Pump 1 - 2                14337 non-null  float64\n",
      " 22  FFTE Pump 2                    14337 non-null  float64\n",
      " 23  FFTE Steam pressure PV         14337 non-null  float64\n",
      " 24  FFTE Temperature 1 - 1         14337 non-null  float64\n",
      " 25  FFTE Temperature 1 - 2         14337 non-null  float64\n",
      " 26  FFTE Temperature 2 - 1         14337 non-null  float64\n",
      " 27  FFTE Temperature 2 - 2         14337 non-null  float64\n",
      " 28  FFTE Temperature 3 - 1         14337 non-null  float64\n",
      " 29  FFTE Temperature 3 - 2         14337 non-null  float64\n",
      " 30  FFTE Unk Temperature           14337 non-null  float64\n",
      " 31  TFE Feed pump                  14337 non-null  float64\n",
      " 32  TFE Input flow PV              14337 non-null  float64\n",
      " 33  TFE Level                      14337 non-null  float64\n",
      " 34  TFE Motor current              14337 non-null  float64\n",
      " 35  TFE Motor speed                14337 non-null  float64\n",
      " 36  TFE Out flow PV                14337 non-null  float64\n",
      " 37  TFE Production solids PV       14337 non-null  float64\n",
      " 38  TFE Production solids density  14337 non-null  float64\n",
      " 39  TFE Steam pressure PV          14337 non-null  float64\n",
      " 40  TFE Steam temperature          14337 non-null  float64\n",
      " 41  TFE Tank level                 14337 non-null  float64\n",
      " 42  TFE Temperature                14337 non-null  float64\n",
      " 43  TFE Vacuum pressure PV         14337 non-null  float64\n",
      " 44  Class                          14337 non-null  int64  \n",
      "dtypes: float64(44), int64(1)\n",
      "memory usage: 4.9 MB\n"
     ]
    }
   ],
   "source": [
    "df.info()"
   ]
  },
  {
   "cell_type": "code",
   "execution_count": 14,
   "metadata": {},
   "outputs": [
    {
     "data": {
      "text/plain": [
       "['Class']"
      ]
     },
     "execution_count": 14,
     "metadata": {},
     "output_type": "execute_result"
    }
   ],
   "source": [
    "# Define the threshold for \"few\" unique values (e.g., 10 or fewer)\n",
    "threshold = 200\n",
    "\n",
    "# Identify integer columns with few unique values\n",
    "columns_to_convert = [col for col in sampled_df.columns if pd.api.types.is_integer_dtype(df[col]) and sampled_df[col].nunique() <= threshold]\n",
    "\n",
    "columns_to_convert  "
   ]
  },
  {
   "cell_type": "markdown",
   "metadata": {},
   "source": [
    "## Check class distritbution"
   ]
  },
  {
   "cell_type": "code",
   "execution_count": 23,
   "metadata": {},
   "outputs": [
    {
     "name": "stdout",
     "output_type": "stream",
     "text": [
      "Class Distribution:\n",
      "Class\n",
      "2    7088\n",
      "1    4763\n",
      "0    2486\n",
      "Name: count, dtype: int64\n"
     ]
    }
   ],
   "source": [
    "class_distribution = df['Class'].value_counts()\n",
    "\n",
    "print(\"Class Distribution:\")\n",
    "print(class_distribution)"
   ]
  },
  {
   "cell_type": "code",
   "execution_count": null,
   "metadata": {},
   "outputs": [],
   "source": []
  }
 ],
 "metadata": {
  "kernelspec": {
   "display_name": "Python 3",
   "language": "python",
   "name": "python3"
  },
  "language_info": {
   "codemirror_mode": {
    "name": "ipython",
    "version": 3
   },
   "file_extension": ".py",
   "mimetype": "text/x-python",
   "name": "python",
   "nbconvert_exporter": "python",
   "pygments_lexer": "ipython3",
   "version": "3.12.3"
  }
 },
 "nbformat": 4,
 "nbformat_minor": 2
}
