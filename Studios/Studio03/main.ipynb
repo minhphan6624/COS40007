{
 "cells": [
  {
   "cell_type": "markdown",
   "metadata": {
    "tags": [
     "parameters"
    ]
   },
   "source": [
    "# Importing libraires"
   ]
  },
  {
   "cell_type": "code",
   "execution_count": 2,
   "metadata": {},
   "outputs": [],
   "source": [
    "import pandas as pd\n",
    "import numpy as np\n",
    "import matplotlib.pyplot as plt"
   ]
  },
  {
   "cell_type": "markdown",
   "metadata": {},
   "source": [
    "# 1 - Data processing"
   ]
  },
  {
   "cell_type": "markdown",
   "metadata": {},
   "source": [
    "### Concatnating the datasets"
   ]
  },
  {
   "cell_type": "code",
   "execution_count": 3,
   "metadata": {},
   "outputs": [
    {
     "data": {
      "text/html": [
       "<div>\n",
       "<style scoped>\n",
       "    .dataframe tbody tr th:only-of-type {\n",
       "        vertical-align: middle;\n",
       "    }\n",
       "\n",
       "    .dataframe tbody tr th {\n",
       "        vertical-align: top;\n",
       "    }\n",
       "\n",
       "    .dataframe thead th {\n",
       "        text-align: right;\n",
       "    }\n",
       "</style>\n",
       "<table border=\"1\" class=\"dataframe\">\n",
       "  <thead>\n",
       "    <tr style=\"text-align: right;\">\n",
       "      <th></th>\n",
       "      <th>acc_mean_x_right</th>\n",
       "      <th>acc_mean_y_right</th>\n",
       "      <th>acc_mean_z_right</th>\n",
       "      <th>acc_mean_xyz_right</th>\n",
       "      <th>acc_mean_xy_right</th>\n",
       "      <th>acc_mean_yz_right</th>\n",
       "      <th>acc_mean_zx_right</th>\n",
       "      <th>acc_mean_pitch_right</th>\n",
       "      <th>acc_mean_roll_right</th>\n",
       "      <th>acc_std_x_right</th>\n",
       "      <th>...</th>\n",
       "      <th>gyro_max_yz_left</th>\n",
       "      <th>gyro_max_zx_left</th>\n",
       "      <th>gyro_peak_x_left</th>\n",
       "      <th>gyro_peak_y_left</th>\n",
       "      <th>gyro_peak_z_left</th>\n",
       "      <th>gyro_peak_xyz_left</th>\n",
       "      <th>gyro_peak_xy_left</th>\n",
       "      <th>gyro_peak_yz_left</th>\n",
       "      <th>gyro_peak_zx_left</th>\n",
       "      <th>class</th>\n",
       "    </tr>\n",
       "  </thead>\n",
       "  <tbody>\n",
       "    <tr>\n",
       "      <th>0</th>\n",
       "      <td>-0.17330</td>\n",
       "      <td>0.14864</td>\n",
       "      <td>0.98128</td>\n",
       "      <td>1.1065</td>\n",
       "      <td>0.44735</td>\n",
       "      <td>1.06110</td>\n",
       "      <td>1.03320</td>\n",
       "      <td>9.9751</td>\n",
       "      <td>52.281</td>\n",
       "      <td>0.25398</td>\n",
       "      <td>...</td>\n",
       "      <td>137.85</td>\n",
       "      <td>79.286</td>\n",
       "      <td>4</td>\n",
       "      <td>4</td>\n",
       "      <td>3</td>\n",
       "      <td>2</td>\n",
       "      <td>2</td>\n",
       "      <td>2</td>\n",
       "      <td>4</td>\n",
       "      <td>2</td>\n",
       "    </tr>\n",
       "    <tr>\n",
       "      <th>1</th>\n",
       "      <td>-0.40618</td>\n",
       "      <td>0.24715</td>\n",
       "      <td>0.79471</td>\n",
       "      <td>1.0178</td>\n",
       "      <td>0.52388</td>\n",
       "      <td>0.86595</td>\n",
       "      <td>0.96693</td>\n",
       "      <td>-30.4210</td>\n",
       "      <td>48.213</td>\n",
       "      <td>0.26456</td>\n",
       "      <td>...</td>\n",
       "      <td>269.08</td>\n",
       "      <td>103.560</td>\n",
       "      <td>3</td>\n",
       "      <td>1</td>\n",
       "      <td>2</td>\n",
       "      <td>2</td>\n",
       "      <td>2</td>\n",
       "      <td>2</td>\n",
       "      <td>1</td>\n",
       "      <td>2</td>\n",
       "    </tr>\n",
       "    <tr>\n",
       "      <th>2</th>\n",
       "      <td>-0.49670</td>\n",
       "      <td>0.37167</td>\n",
       "      <td>0.70283</td>\n",
       "      <td>1.0402</td>\n",
       "      <td>0.68213</td>\n",
       "      <td>0.80958</td>\n",
       "      <td>0.96510</td>\n",
       "      <td>-23.0680</td>\n",
       "      <td>52.897</td>\n",
       "      <td>0.35638</td>\n",
       "      <td>...</td>\n",
       "      <td>158.42</td>\n",
       "      <td>114.700</td>\n",
       "      <td>2</td>\n",
       "      <td>3</td>\n",
       "      <td>2</td>\n",
       "      <td>1</td>\n",
       "      <td>1</td>\n",
       "      <td>2</td>\n",
       "      <td>2</td>\n",
       "      <td>2</td>\n",
       "    </tr>\n",
       "    <tr>\n",
       "      <th>3</th>\n",
       "      <td>-0.28780</td>\n",
       "      <td>0.15882</td>\n",
       "      <td>0.91688</td>\n",
       "      <td>1.0974</td>\n",
       "      <td>0.50834</td>\n",
       "      <td>1.02760</td>\n",
       "      <td>0.99884</td>\n",
       "      <td>3.2451</td>\n",
       "      <td>31.009</td>\n",
       "      <td>0.29577</td>\n",
       "      <td>...</td>\n",
       "      <td>283.65</td>\n",
       "      <td>120.460</td>\n",
       "      <td>3</td>\n",
       "      <td>2</td>\n",
       "      <td>2</td>\n",
       "      <td>3</td>\n",
       "      <td>4</td>\n",
       "      <td>3</td>\n",
       "      <td>2</td>\n",
       "      <td>2</td>\n",
       "    </tr>\n",
       "    <tr>\n",
       "      <th>4</th>\n",
       "      <td>-0.56189</td>\n",
       "      <td>0.36946</td>\n",
       "      <td>0.68668</td>\n",
       "      <td>1.3085</td>\n",
       "      <td>0.91759</td>\n",
       "      <td>1.02180</td>\n",
       "      <td>1.12010</td>\n",
       "      <td>-24.1180</td>\n",
       "      <td>47.579</td>\n",
       "      <td>0.56810</td>\n",
       "      <td>...</td>\n",
       "      <td>199.69</td>\n",
       "      <td>93.039</td>\n",
       "      <td>4</td>\n",
       "      <td>2</td>\n",
       "      <td>2</td>\n",
       "      <td>3</td>\n",
       "      <td>3</td>\n",
       "      <td>3</td>\n",
       "      <td>2</td>\n",
       "      <td>2</td>\n",
       "    </tr>\n",
       "  </tbody>\n",
       "</table>\n",
       "<p>5 rows × 157 columns</p>\n",
       "</div>"
      ],
      "text/plain": [
       "   acc_mean_x_right  acc_mean_y_right  acc_mean_z_right  acc_mean_xyz_right  \\\n",
       "0          -0.17330           0.14864           0.98128              1.1065   \n",
       "1          -0.40618           0.24715           0.79471              1.0178   \n",
       "2          -0.49670           0.37167           0.70283              1.0402   \n",
       "3          -0.28780           0.15882           0.91688              1.0974   \n",
       "4          -0.56189           0.36946           0.68668              1.3085   \n",
       "\n",
       "   acc_mean_xy_right  acc_mean_yz_right  acc_mean_zx_right  \\\n",
       "0            0.44735            1.06110            1.03320   \n",
       "1            0.52388            0.86595            0.96693   \n",
       "2            0.68213            0.80958            0.96510   \n",
       "3            0.50834            1.02760            0.99884   \n",
       "4            0.91759            1.02180            1.12010   \n",
       "\n",
       "   acc_mean_pitch_right  acc_mean_roll_right  acc_std_x_right  ...  \\\n",
       "0                9.9751               52.281          0.25398  ...   \n",
       "1              -30.4210               48.213          0.26456  ...   \n",
       "2              -23.0680               52.897          0.35638  ...   \n",
       "3                3.2451               31.009          0.29577  ...   \n",
       "4              -24.1180               47.579          0.56810  ...   \n",
       "\n",
       "   gyro_max_yz_left  gyro_max_zx_left  gyro_peak_x_left  gyro_peak_y_left  \\\n",
       "0            137.85            79.286                 4                 4   \n",
       "1            269.08           103.560                 3                 1   \n",
       "2            158.42           114.700                 2                 3   \n",
       "3            283.65           120.460                 3                 2   \n",
       "4            199.69            93.039                 4                 2   \n",
       "\n",
       "   gyro_peak_z_left  gyro_peak_xyz_left  gyro_peak_xy_left  gyro_peak_yz_left  \\\n",
       "0                 3                   2                  2                  2   \n",
       "1                 2                   2                  2                  2   \n",
       "2                 2                   1                  1                  2   \n",
       "3                 2                   3                  4                  3   \n",
       "4                 2                   3                  3                  3   \n",
       "\n",
       "   gyro_peak_zx_left  class  \n",
       "0                  4      2  \n",
       "1                  1      2  \n",
       "2                  2      2  \n",
       "3                  2      2  \n",
       "4                  2      2  \n",
       "\n",
       "[5 rows x 157 columns]"
      ]
     },
     "execution_count": 3,
     "metadata": {},
     "output_type": "execute_result"
    }
   ],
   "source": [
    "#Concatenating the data\n",
    "file_paths = [f'ampc/w{i}.csv' for i in range(1, 5)]\n",
    "\n",
    "data = pd.concat([pd.read_csv(f) for f in file_paths], ignore_index=True)\n",
    "\n",
    "data.to_csv('./combined_data.csv', index = False)\n",
    "\n",
    "data.head()"
   ]
  },
  {
   "cell_type": "markdown",
   "metadata": {},
   "source": [
    "### Shuffle data"
   ]
  },
  {
   "cell_type": "code",
   "execution_count": 4,
   "metadata": {},
   "outputs": [
    {
     "data": {
      "text/html": [
       "<div>\n",
       "<style scoped>\n",
       "    .dataframe tbody tr th:only-of-type {\n",
       "        vertical-align: middle;\n",
       "    }\n",
       "\n",
       "    .dataframe tbody tr th {\n",
       "        vertical-align: top;\n",
       "    }\n",
       "\n",
       "    .dataframe thead th {\n",
       "        text-align: right;\n",
       "    }\n",
       "</style>\n",
       "<table border=\"1\" class=\"dataframe\">\n",
       "  <thead>\n",
       "    <tr style=\"text-align: right;\">\n",
       "      <th></th>\n",
       "      <th>acc_mean_x_right</th>\n",
       "      <th>acc_mean_y_right</th>\n",
       "      <th>acc_mean_z_right</th>\n",
       "      <th>acc_mean_xyz_right</th>\n",
       "      <th>acc_mean_xy_right</th>\n",
       "      <th>acc_mean_yz_right</th>\n",
       "      <th>acc_mean_zx_right</th>\n",
       "      <th>acc_mean_pitch_right</th>\n",
       "      <th>acc_mean_roll_right</th>\n",
       "      <th>acc_std_x_right</th>\n",
       "      <th>...</th>\n",
       "      <th>gyro_max_yz_left</th>\n",
       "      <th>gyro_max_zx_left</th>\n",
       "      <th>gyro_peak_x_left</th>\n",
       "      <th>gyro_peak_y_left</th>\n",
       "      <th>gyro_peak_z_left</th>\n",
       "      <th>gyro_peak_xyz_left</th>\n",
       "      <th>gyro_peak_xy_left</th>\n",
       "      <th>gyro_peak_yz_left</th>\n",
       "      <th>gyro_peak_zx_left</th>\n",
       "      <th>class</th>\n",
       "    </tr>\n",
       "  </thead>\n",
       "  <tbody>\n",
       "    <tr>\n",
       "      <th>0</th>\n",
       "      <td>-0.37386</td>\n",
       "      <td>-0.53822</td>\n",
       "      <td>0.69911</td>\n",
       "      <td>1.13840</td>\n",
       "      <td>0.75576</td>\n",
       "      <td>1.00910</td>\n",
       "      <td>0.89655</td>\n",
       "      <td>-4.3005</td>\n",
       "      <td>-19.8660</td>\n",
       "      <td>0.315200</td>\n",
       "      <td>...</td>\n",
       "      <td>318.170</td>\n",
       "      <td>244.3400</td>\n",
       "      <td>4</td>\n",
       "      <td>4</td>\n",
       "      <td>5</td>\n",
       "      <td>6</td>\n",
       "      <td>5</td>\n",
       "      <td>5</td>\n",
       "      <td>7</td>\n",
       "      <td>2</td>\n",
       "    </tr>\n",
       "    <tr>\n",
       "      <th>1</th>\n",
       "      <td>-0.63051</td>\n",
       "      <td>-0.76417</td>\n",
       "      <td>-0.00069</td>\n",
       "      <td>0.99614</td>\n",
       "      <td>0.99096</td>\n",
       "      <td>0.77094</td>\n",
       "      <td>0.63835</td>\n",
       "      <td>-39.1600</td>\n",
       "      <td>-50.2250</td>\n",
       "      <td>0.025883</td>\n",
       "      <td>...</td>\n",
       "      <td>40.393</td>\n",
       "      <td>12.2280</td>\n",
       "      <td>4</td>\n",
       "      <td>7</td>\n",
       "      <td>3</td>\n",
       "      <td>5</td>\n",
       "      <td>5</td>\n",
       "      <td>5</td>\n",
       "      <td>5</td>\n",
       "      <td>1</td>\n",
       "    </tr>\n",
       "    <tr>\n",
       "      <th>2</th>\n",
       "      <td>-0.85584</td>\n",
       "      <td>-0.25832</td>\n",
       "      <td>-0.43962</td>\n",
       "      <td>1.00230</td>\n",
       "      <td>0.89682</td>\n",
       "      <td>0.51594</td>\n",
       "      <td>0.96573</td>\n",
       "      <td>-72.2840</td>\n",
       "      <td>-5.5858</td>\n",
       "      <td>0.093458</td>\n",
       "      <td>...</td>\n",
       "      <td>12.134</td>\n",
       "      <td>5.7711</td>\n",
       "      <td>7</td>\n",
       "      <td>8</td>\n",
       "      <td>4</td>\n",
       "      <td>6</td>\n",
       "      <td>6</td>\n",
       "      <td>6</td>\n",
       "      <td>6</td>\n",
       "      <td>2</td>\n",
       "    </tr>\n",
       "    <tr>\n",
       "      <th>3</th>\n",
       "      <td>-0.84629</td>\n",
       "      <td>-0.48096</td>\n",
       "      <td>0.15484</td>\n",
       "      <td>0.98711</td>\n",
       "      <td>0.97428</td>\n",
       "      <td>0.50697</td>\n",
       "      <td>0.86094</td>\n",
       "      <td>-60.0250</td>\n",
       "      <td>-28.5130</td>\n",
       "      <td>0.030618</td>\n",
       "      <td>...</td>\n",
       "      <td>98.489</td>\n",
       "      <td>73.9680</td>\n",
       "      <td>5</td>\n",
       "      <td>5</td>\n",
       "      <td>4</td>\n",
       "      <td>6</td>\n",
       "      <td>6</td>\n",
       "      <td>6</td>\n",
       "      <td>7</td>\n",
       "      <td>2</td>\n",
       "    </tr>\n",
       "    <tr>\n",
       "      <th>4</th>\n",
       "      <td>-0.38370</td>\n",
       "      <td>0.27799</td>\n",
       "      <td>0.87787</td>\n",
       "      <td>1.00910</td>\n",
       "      <td>0.48030</td>\n",
       "      <td>0.92572</td>\n",
       "      <td>0.96607</td>\n",
       "      <td>-30.0820</td>\n",
       "      <td>56.3250</td>\n",
       "      <td>0.118340</td>\n",
       "      <td>...</td>\n",
       "      <td>51.543</td>\n",
       "      <td>20.7470</td>\n",
       "      <td>6</td>\n",
       "      <td>4</td>\n",
       "      <td>4</td>\n",
       "      <td>5</td>\n",
       "      <td>5</td>\n",
       "      <td>5</td>\n",
       "      <td>5</td>\n",
       "      <td>2</td>\n",
       "    </tr>\n",
       "  </tbody>\n",
       "</table>\n",
       "<p>5 rows × 157 columns</p>\n",
       "</div>"
      ],
      "text/plain": [
       "   acc_mean_x_right  acc_mean_y_right  acc_mean_z_right  acc_mean_xyz_right  \\\n",
       "0          -0.37386          -0.53822           0.69911             1.13840   \n",
       "1          -0.63051          -0.76417          -0.00069             0.99614   \n",
       "2          -0.85584          -0.25832          -0.43962             1.00230   \n",
       "3          -0.84629          -0.48096           0.15484             0.98711   \n",
       "4          -0.38370           0.27799           0.87787             1.00910   \n",
       "\n",
       "   acc_mean_xy_right  acc_mean_yz_right  acc_mean_zx_right  \\\n",
       "0            0.75576            1.00910            0.89655   \n",
       "1            0.99096            0.77094            0.63835   \n",
       "2            0.89682            0.51594            0.96573   \n",
       "3            0.97428            0.50697            0.86094   \n",
       "4            0.48030            0.92572            0.96607   \n",
       "\n",
       "   acc_mean_pitch_right  acc_mean_roll_right  acc_std_x_right  ...  \\\n",
       "0               -4.3005             -19.8660         0.315200  ...   \n",
       "1              -39.1600             -50.2250         0.025883  ...   \n",
       "2              -72.2840              -5.5858         0.093458  ...   \n",
       "3              -60.0250             -28.5130         0.030618  ...   \n",
       "4              -30.0820              56.3250         0.118340  ...   \n",
       "\n",
       "   gyro_max_yz_left  gyro_max_zx_left  gyro_peak_x_left  gyro_peak_y_left  \\\n",
       "0           318.170          244.3400                 4                 4   \n",
       "1            40.393           12.2280                 4                 7   \n",
       "2            12.134            5.7711                 7                 8   \n",
       "3            98.489           73.9680                 5                 5   \n",
       "4            51.543           20.7470                 6                 4   \n",
       "\n",
       "   gyro_peak_z_left  gyro_peak_xyz_left  gyro_peak_xy_left  gyro_peak_yz_left  \\\n",
       "0                 5                   6                  5                  5   \n",
       "1                 3                   5                  5                  5   \n",
       "2                 4                   6                  6                  6   \n",
       "3                 4                   6                  6                  6   \n",
       "4                 4                   5                  5                  5   \n",
       "\n",
       "   gyro_peak_zx_left  class  \n",
       "0                  7      2  \n",
       "1                  5      1  \n",
       "2                  6      2  \n",
       "3                  7      2  \n",
       "4                  5      2  \n",
       "\n",
       "[5 rows x 157 columns]"
      ]
     },
     "execution_count": 4,
     "metadata": {},
     "output_type": "execute_result"
    }
   ],
   "source": [
    "shuffled_data = data.sample(n=len(data)).reset_index(drop=True)\n",
    "\n",
    "shuffled_data.to_csv('./all_data.csv', index = False)\n",
    "\n",
    "shuffled_data.head()"
   ]
  },
  {
   "cell_type": "markdown",
   "metadata": {},
   "source": [
    "# 2 - Model Training "
   ]
  },
  {
   "cell_type": "markdown",
   "metadata": {},
   "source": [
    "### Split features and target variable"
   ]
  },
  {
   "cell_type": "code",
   "execution_count": 5,
   "metadata": {},
   "outputs": [],
   "source": [
    "from sklearn.model_selection import train_test_split\n",
    "\n",
    "# Split features and target vairable\n",
    "X = shuffled_data.drop('class', axis=1)\n",
    "y = shuffled_data['class']\n",
    "\n",
    "X_train, X_test, y_train, y_test = train_test_split(X, y, test_size=0.3, random_state=1) \n"
   ]
  },
  {
   "cell_type": "markdown",
   "metadata": {},
   "source": [
    "### Train-test split model training "
   ]
  },
  {
   "cell_type": "code",
   "execution_count": 6,
   "metadata": {},
   "outputs": [
    {
     "data": {
      "text/plain": [
       "'Accuracy of the model: 89.022643%'"
      ]
     },
     "execution_count": 6,
     "metadata": {},
     "output_type": "execute_result"
    }
   ],
   "source": [
    "from sklearn import svm\n",
    "from sklearn.metrics import accuracy_score\n",
    "\n",
    "clf = svm.SVC() # Linear Kernel\n",
    "clf.fit(X_train, y_train) # Training the model\n",
    "y_pred = clf.predict(X_test) # Predicting the model\n",
    "accuracy_score = accuracy_score(y_test, y_pred) # Calculating the accuracy of the model\n",
    "\n",
    "f\"Accuracy of the model: {accuracy_score*100:2f}%\""
   ]
  },
  {
   "cell_type": "markdown",
   "metadata": {},
   "source": [
    "### 10-fold cross validation mean accuracy "
   ]
  },
  {
   "cell_type": "code",
   "execution_count": 8,
   "metadata": {},
   "outputs": [
    {
     "data": {
      "text/plain": [
       "'89.242396%'"
      ]
     },
     "execution_count": 8,
     "metadata": {},
     "output_type": "execute_result"
    }
   ],
   "source": [
    "from sklearn import svm\n",
    "from sklearn.model_selection import cross_val_score\n",
    "\n",
    "clf = svm.SVC()\n",
    "scores = cross_val_score(clf, X, y, cv = 10) # 10-fold cross validation\n",
    "\n",
    "f\"{scores.mean()*100:2f}%\""
   ]
  },
  {
   "cell_type": "markdown",
   "metadata": {},
   "source": [
    "# 3 - Hyperparameter Tuning"
   ]
  },
  {
   "cell_type": "markdown",
   "metadata": {},
   "source": [
    "### Use GridSeachCV to find the best set of values for the SVC model"
   ]
  },
  {
   "cell_type": "code",
   "execution_count": 9,
   "metadata": {},
   "outputs": [
    {
     "name": "stdout",
     "output_type": "stream",
     "text": [
      "Fitting 5 folds for each of 25 candidates, totalling 125 fits\n",
      "[CV 1/5] END ........C=0.1, gamma=1, kernel=rbf;, score=0.835 total time=   9.7s\n",
      "[CV 2/5] END ........C=0.1, gamma=1, kernel=rbf;, score=0.835 total time=   9.6s\n",
      "[CV 3/5] END ........C=0.1, gamma=1, kernel=rbf;, score=0.835 total time=   9.8s\n",
      "[CV 4/5] END ........C=0.1, gamma=1, kernel=rbf;, score=0.834 total time=  10.0s\n",
      "[CV 5/5] END ........C=0.1, gamma=1, kernel=rbf;, score=0.834 total time=   9.5s\n",
      "[CV 1/5] END ......C=0.1, gamma=0.1, kernel=rbf;, score=0.835 total time=   9.7s\n",
      "[CV 2/5] END ......C=0.1, gamma=0.1, kernel=rbf;, score=0.835 total time=   9.7s\n",
      "[CV 3/5] END ......C=0.1, gamma=0.1, kernel=rbf;, score=0.835 total time=   9.8s\n",
      "[CV 4/5] END ......C=0.1, gamma=0.1, kernel=rbf;, score=0.834 total time=   9.5s\n",
      "[CV 5/5] END ......C=0.1, gamma=0.1, kernel=rbf;, score=0.834 total time=   9.6s\n",
      "[CV 1/5] END .....C=0.1, gamma=0.01, kernel=rbf;, score=0.835 total time=   9.7s\n",
      "[CV 2/5] END .....C=0.1, gamma=0.01, kernel=rbf;, score=0.835 total time=   9.8s\n",
      "[CV 3/5] END .....C=0.1, gamma=0.01, kernel=rbf;, score=0.835 total time=   9.6s\n",
      "[CV 4/5] END .....C=0.1, gamma=0.01, kernel=rbf;, score=0.834 total time=   9.5s\n",
      "[CV 5/5] END .....C=0.1, gamma=0.01, kernel=rbf;, score=0.834 total time=   9.6s\n",
      "[CV 1/5] END ....C=0.1, gamma=0.001, kernel=rbf;, score=0.835 total time=   9.4s\n",
      "[CV 2/5] END ....C=0.1, gamma=0.001, kernel=rbf;, score=0.835 total time=   9.5s\n",
      "[CV 3/5] END ....C=0.1, gamma=0.001, kernel=rbf;, score=0.835 total time=   9.4s\n",
      "[CV 4/5] END ....C=0.1, gamma=0.001, kernel=rbf;, score=0.834 total time=   9.4s\n",
      "[CV 5/5] END ....C=0.1, gamma=0.001, kernel=rbf;, score=0.834 total time=   9.4s\n",
      "[CV 1/5] END ...C=0.1, gamma=0.0001, kernel=rbf;, score=0.835 total time=   9.7s\n",
      "[CV 2/5] END ...C=0.1, gamma=0.0001, kernel=rbf;, score=0.835 total time=   9.6s\n",
      "[CV 3/5] END ...C=0.1, gamma=0.0001, kernel=rbf;, score=0.835 total time=   9.6s\n",
      "[CV 4/5] END ...C=0.1, gamma=0.0001, kernel=rbf;, score=0.834 total time=   9.6s\n",
      "[CV 5/5] END ...C=0.1, gamma=0.0001, kernel=rbf;, score=0.834 total time=   9.6s\n",
      "[CV 1/5] END ..........C=1, gamma=1, kernel=rbf;, score=0.835 total time=   9.7s\n",
      "[CV 2/5] END ..........C=1, gamma=1, kernel=rbf;, score=0.835 total time=   9.7s\n",
      "[CV 3/5] END ..........C=1, gamma=1, kernel=rbf;, score=0.835 total time=   9.7s\n",
      "[CV 4/5] END ..........C=1, gamma=1, kernel=rbf;, score=0.834 total time=   9.9s\n",
      "[CV 5/5] END ..........C=1, gamma=1, kernel=rbf;, score=0.834 total time=  10.3s\n",
      "[CV 1/5] END ........C=1, gamma=0.1, kernel=rbf;, score=0.835 total time=   9.8s\n",
      "[CV 2/5] END ........C=1, gamma=0.1, kernel=rbf;, score=0.835 total time=   9.8s\n",
      "[CV 3/5] END ........C=1, gamma=0.1, kernel=rbf;, score=0.835 total time=   9.7s\n",
      "[CV 4/5] END ........C=1, gamma=0.1, kernel=rbf;, score=0.834 total time=   9.7s\n",
      "[CV 5/5] END ........C=1, gamma=0.1, kernel=rbf;, score=0.834 total time=   9.7s\n",
      "[CV 1/5] END .......C=1, gamma=0.01, kernel=rbf;, score=0.835 total time=   9.8s\n",
      "[CV 2/5] END .......C=1, gamma=0.01, kernel=rbf;, score=0.835 total time=   9.7s\n",
      "[CV 3/5] END .......C=1, gamma=0.01, kernel=rbf;, score=0.835 total time=   9.8s\n",
      "[CV 4/5] END .......C=1, gamma=0.01, kernel=rbf;, score=0.834 total time=   9.8s\n",
      "[CV 5/5] END .......C=1, gamma=0.01, kernel=rbf;, score=0.834 total time=   9.8s\n",
      "[CV 1/5] END ......C=1, gamma=0.001, kernel=rbf;, score=0.835 total time=  10.1s\n",
      "[CV 2/5] END ......C=1, gamma=0.001, kernel=rbf;, score=0.835 total time=   9.7s\n",
      "[CV 3/5] END ......C=1, gamma=0.001, kernel=rbf;, score=0.835 total time=   9.8s\n",
      "[CV 4/5] END ......C=1, gamma=0.001, kernel=rbf;, score=0.834 total time=   9.8s\n",
      "[CV 5/5] END ......C=1, gamma=0.001, kernel=rbf;, score=0.835 total time=   9.8s\n",
      "[CV 1/5] END .....C=1, gamma=0.0001, kernel=rbf;, score=0.838 total time=   9.9s\n",
      "[CV 2/5] END .....C=1, gamma=0.0001, kernel=rbf;, score=0.840 total time=  10.0s\n",
      "[CV 3/5] END .....C=1, gamma=0.0001, kernel=rbf;, score=0.841 total time=   9.9s\n",
      "[CV 4/5] END .....C=1, gamma=0.0001, kernel=rbf;, score=0.840 total time=  10.0s\n",
      "[CV 5/5] END .....C=1, gamma=0.0001, kernel=rbf;, score=0.838 total time=   9.9s\n",
      "[CV 1/5] END .........C=10, gamma=1, kernel=rbf;, score=0.835 total time=  10.1s\n",
      "[CV 2/5] END .........C=10, gamma=1, kernel=rbf;, score=0.835 total time=  10.0s\n",
      "[CV 3/5] END .........C=10, gamma=1, kernel=rbf;, score=0.835 total time=  10.3s\n",
      "[CV 4/5] END .........C=10, gamma=1, kernel=rbf;, score=0.834 total time=  10.1s\n",
      "[CV 5/5] END .........C=10, gamma=1, kernel=rbf;, score=0.834 total time=  10.1s\n",
      "[CV 1/5] END .......C=10, gamma=0.1, kernel=rbf;, score=0.835 total time=  10.3s\n",
      "[CV 2/5] END .......C=10, gamma=0.1, kernel=rbf;, score=0.835 total time=  10.7s\n",
      "[CV 3/5] END .......C=10, gamma=0.1, kernel=rbf;, score=0.835 total time=  10.2s\n",
      "[CV 4/5] END .......C=10, gamma=0.1, kernel=rbf;, score=0.834 total time=  11.0s\n",
      "[CV 5/5] END .......C=10, gamma=0.1, kernel=rbf;, score=0.834 total time=  10.3s\n",
      "[CV 1/5] END ......C=10, gamma=0.01, kernel=rbf;, score=0.835 total time=  10.1s\n",
      "[CV 2/5] END ......C=10, gamma=0.01, kernel=rbf;, score=0.835 total time=  10.2s\n",
      "[CV 3/5] END ......C=10, gamma=0.01, kernel=rbf;, score=0.835 total time=  10.8s\n",
      "[CV 4/5] END ......C=10, gamma=0.01, kernel=rbf;, score=0.834 total time=  10.2s\n",
      "[CV 5/5] END ......C=10, gamma=0.01, kernel=rbf;, score=0.834 total time=  10.4s\n",
      "[CV 1/5] END .....C=10, gamma=0.001, kernel=rbf;, score=0.835 total time=  10.7s\n",
      "[CV 2/5] END .....C=10, gamma=0.001, kernel=rbf;, score=0.836 total time=  10.3s\n",
      "[CV 3/5] END .....C=10, gamma=0.001, kernel=rbf;, score=0.836 total time=  10.3s\n",
      "[CV 4/5] END .....C=10, gamma=0.001, kernel=rbf;, score=0.835 total time=  10.2s\n",
      "[CV 5/5] END .....C=10, gamma=0.001, kernel=rbf;, score=0.835 total time=  10.2s\n",
      "[CV 1/5] END ....C=10, gamma=0.0001, kernel=rbf;, score=0.839 total time=  10.5s\n",
      "[CV 2/5] END ....C=10, gamma=0.0001, kernel=rbf;, score=0.842 total time=  10.5s\n",
      "[CV 3/5] END ....C=10, gamma=0.0001, kernel=rbf;, score=0.844 total time=  10.5s\n",
      "[CV 4/5] END ....C=10, gamma=0.0001, kernel=rbf;, score=0.842 total time=  10.6s\n",
      "[CV 5/5] END ....C=10, gamma=0.0001, kernel=rbf;, score=0.842 total time=  10.7s\n",
      "[CV 1/5] END ........C=100, gamma=1, kernel=rbf;, score=0.835 total time=  10.3s\n",
      "[CV 2/5] END ........C=100, gamma=1, kernel=rbf;, score=0.835 total time=  10.2s\n",
      "[CV 3/5] END ........C=100, gamma=1, kernel=rbf;, score=0.835 total time=  10.1s\n",
      "[CV 4/5] END ........C=100, gamma=1, kernel=rbf;, score=0.834 total time=  10.1s\n",
      "[CV 5/5] END ........C=100, gamma=1, kernel=rbf;, score=0.834 total time=  10.1s\n",
      "[CV 1/5] END ......C=100, gamma=0.1, kernel=rbf;, score=0.835 total time=  10.4s\n",
      "[CV 2/5] END ......C=100, gamma=0.1, kernel=rbf;, score=0.835 total time=  10.1s\n",
      "[CV 3/5] END ......C=100, gamma=0.1, kernel=rbf;, score=0.835 total time=  10.3s\n",
      "[CV 4/5] END ......C=100, gamma=0.1, kernel=rbf;, score=0.834 total time=  10.1s\n",
      "[CV 5/5] END ......C=100, gamma=0.1, kernel=rbf;, score=0.834 total time=  10.0s\n",
      "[CV 1/5] END .....C=100, gamma=0.01, kernel=rbf;, score=0.835 total time=  10.4s\n",
      "[CV 2/5] END .....C=100, gamma=0.01, kernel=rbf;, score=0.835 total time=  10.1s\n",
      "[CV 3/5] END .....C=100, gamma=0.01, kernel=rbf;, score=0.835 total time=  10.2s\n",
      "[CV 4/5] END .....C=100, gamma=0.01, kernel=rbf;, score=0.834 total time=  10.2s\n",
      "[CV 5/5] END .....C=100, gamma=0.01, kernel=rbf;, score=0.834 total time=  10.1s\n",
      "[CV 1/5] END ....C=100, gamma=0.001, kernel=rbf;, score=0.835 total time=  10.3s\n",
      "[CV 2/5] END ....C=100, gamma=0.001, kernel=rbf;, score=0.836 total time=  10.3s\n",
      "[CV 3/5] END ....C=100, gamma=0.001, kernel=rbf;, score=0.836 total time=  10.3s\n",
      "[CV 4/5] END ....C=100, gamma=0.001, kernel=rbf;, score=0.835 total time=  10.2s\n",
      "[CV 5/5] END ....C=100, gamma=0.001, kernel=rbf;, score=0.835 total time=  10.3s\n",
      "[CV 1/5] END ...C=100, gamma=0.0001, kernel=rbf;, score=0.839 total time=  10.5s\n",
      "[CV 2/5] END ...C=100, gamma=0.0001, kernel=rbf;, score=0.842 total time=  10.5s\n",
      "[CV 3/5] END ...C=100, gamma=0.0001, kernel=rbf;, score=0.844 total time=  10.5s\n",
      "[CV 4/5] END ...C=100, gamma=0.0001, kernel=rbf;, score=0.842 total time=  10.5s\n",
      "[CV 5/5] END ...C=100, gamma=0.0001, kernel=rbf;, score=0.842 total time=  10.5s\n",
      "[CV 1/5] END .......C=1000, gamma=1, kernel=rbf;, score=0.835 total time=  10.2s\n",
      "[CV 2/5] END .......C=1000, gamma=1, kernel=rbf;, score=0.835 total time=  10.0s\n",
      "[CV 3/5] END .......C=1000, gamma=1, kernel=rbf;, score=0.835 total time=  10.5s\n",
      "[CV 4/5] END .......C=1000, gamma=1, kernel=rbf;, score=0.834 total time=  10.2s\n",
      "[CV 5/5] END .......C=1000, gamma=1, kernel=rbf;, score=0.834 total time=  10.4s\n",
      "[CV 1/5] END .....C=1000, gamma=0.1, kernel=rbf;, score=0.835 total time=  10.1s\n",
      "[CV 2/5] END .....C=1000, gamma=0.1, kernel=rbf;, score=0.835 total time=  10.2s\n",
      "[CV 3/5] END .....C=1000, gamma=0.1, kernel=rbf;, score=0.835 total time=  10.2s\n",
      "[CV 4/5] END .....C=1000, gamma=0.1, kernel=rbf;, score=0.834 total time=  10.2s\n",
      "[CV 5/5] END .....C=1000, gamma=0.1, kernel=rbf;, score=0.834 total time=  10.1s\n",
      "[CV 1/5] END ....C=1000, gamma=0.01, kernel=rbf;, score=0.835 total time=  10.1s\n",
      "[CV 2/5] END ....C=1000, gamma=0.01, kernel=rbf;, score=0.835 total time=  10.2s\n",
      "[CV 3/5] END ....C=1000, gamma=0.01, kernel=rbf;, score=0.835 total time=  10.2s\n",
      "[CV 4/5] END ....C=1000, gamma=0.01, kernel=rbf;, score=0.834 total time=  10.1s\n",
      "[CV 5/5] END ....C=1000, gamma=0.01, kernel=rbf;, score=0.834 total time=  10.1s\n",
      "[CV 1/5] END ...C=1000, gamma=0.001, kernel=rbf;, score=0.835 total time=  10.3s\n",
      "[CV 2/5] END ...C=1000, gamma=0.001, kernel=rbf;, score=0.836 total time=  10.3s\n",
      "[CV 3/5] END ...C=1000, gamma=0.001, kernel=rbf;, score=0.836 total time=  10.3s\n",
      "[CV 4/5] END ...C=1000, gamma=0.001, kernel=rbf;, score=0.835 total time=  10.2s\n",
      "[CV 5/5] END ...C=1000, gamma=0.001, kernel=rbf;, score=0.835 total time=  10.2s\n",
      "[CV 1/5] END ..C=1000, gamma=0.0001, kernel=rbf;, score=0.839 total time=  10.5s\n",
      "[CV 2/5] END ..C=1000, gamma=0.0001, kernel=rbf;, score=0.842 total time=  10.5s\n",
      "[CV 3/5] END ..C=1000, gamma=0.0001, kernel=rbf;, score=0.844 total time=  10.7s\n",
      "[CV 4/5] END ..C=1000, gamma=0.0001, kernel=rbf;, score=0.842 total time=  11.7s\n",
      "[CV 5/5] END ..C=1000, gamma=0.0001, kernel=rbf;, score=0.842 total time=  11.1s\n"
     ]
    },
    {
     "data": {
      "text/plain": [
       "{'C': 10, 'gamma': 0.0001, 'kernel': 'rbf'}"
      ]
     },
     "execution_count": 9,
     "metadata": {},
     "output_type": "execute_result"
    }
   ],
   "source": [
    "from sklearn.svm import SVC\n",
    "from sklearn.model_selection import GridSearchCV\n",
    "\n",
    " # Radial Basis Function kernel\n",
    "param_grid = {\n",
    "    'C' : [0.1, 1, 10, 100, 1000],\n",
    "    'gamma' : [1, 0.1, 0.01, 0.001, 0.0001],\n",
    "    'kernel' : ['rbf']\n",
    "}\n",
    "\n",
    "grid = GridSearchCV(SVC(), param_grid, refit = True, verbose = 3)\n",
    "\n",
    "grid.fit(X_train, y_train)\n",
    "\n",
    "grid.best_params_"
   ]
  },
  {
   "cell_type": "markdown",
   "metadata": {},
   "source": [
    "### Train-test split training with hyperparameter tuning"
   ]
  },
  {
   "cell_type": "code",
   "execution_count": 12,
   "metadata": {},
   "outputs": [
    {
     "name": "stdout",
     "output_type": "stream",
     "text": [
      "Accuracy of the model after hyperparameter tuning: 84.293494%\n"
     ]
    }
   ],
   "source": [
    "from sklearn.svm import SVC\n",
    "from sklearn.model_selection import cross_val_score\n",
    "from sklearn.metrics import accuracy_score\n",
    "\n",
    "# best_C = 10\n",
    "# best_gamma = 0.0001\n",
    "# best_kernel = rbf\n",
    "\n",
    "best_C = grid.best_params_['C']\n",
    "best_gamma = grid.best_params_['gamma']\n",
    "best_kernel = grid.best_params_['kernel']\n",
    "\n",
    "svc_hyp = SVC(C = best_C, gamma = best_gamma, kernel = best_kernel)\n",
    "\n",
    "svc_hyp.fit(X_train, y_train)\n",
    "\n",
    "y_pred_hyp = svc_hyp.predict(X_test)\n",
    "\n",
    "accuracy_score_new = accuracy_score(y_test, y_pred_hyp)\n",
    "\n",
    "print(f\"Accuracy of the model after hyperparameter tuning: {accuracy_score_new*100:2f}%\")"
   ]
  },
  {
   "cell_type": "markdown",
   "metadata": {},
   "source": [
    "### 10-fold cross validation mean accuracy"
   ]
  },
  {
   "cell_type": "code",
   "execution_count": 11,
   "metadata": {},
   "outputs": [
    {
     "data": {
      "text/plain": [
       "'10-Fold Cross-Validation Accuracy after hyperparameter tuning: 84.29%'"
      ]
     },
     "execution_count": 11,
     "metadata": {},
     "output_type": "execute_result"
    }
   ],
   "source": [
    "# Perform 10-fold cross-validation\n",
    "cv_scores = cross_val_score(svc_hyp, X, y, cv=10)\n",
    "\n",
    "# Calculate and print the mean accuracy across all 10 folds\n",
    "cv_accuracy = cv_scores.mean()\n",
    "\n",
    "f\"10-Fold Cross-Validation Accuracy after hyperparameter tuning: {cv_accuracy * 100:.2f}%\"\n"
   ]
  },
  {
   "cell_type": "markdown",
   "metadata": {},
   "source": [
    "# 4 - Feature Selection"
   ]
  },
  {
   "cell_type": "code",
   "execution_count": 15,
   "metadata": {},
   "outputs": [],
   "source": [
    "# Import libraries\n",
    "from sklearn.feature_selection import SelectKBest, f_classif\n",
    "from sklearn.svm import SVC\n",
    "from sklearn.model_selection import train_test_split, cross_val_score\n",
    "from sklearn.metrics import accuracy_score"
   ]
  },
  {
   "cell_type": "markdown",
   "metadata": {},
   "source": [
    "### Select features and split data based on selected features"
   ]
  },
  {
   "cell_type": "code",
   "execution_count": 17,
   "metadata": {},
   "outputs": [],
   "source": [
    "# Select top 100 features\n",
    "selector = SelectKBest(f_classif, k=100)\n",
    "\n",
    "# Create a pipeline with a feature selector and classifier\n",
    "X_selected = selector.fit_transform(X, y)\n",
    "\n",
    "X_train, X_test, y_train, y_test = train_test_split(X_selected, y, test_size=0.3, random_state=42)"
   ]
  },
  {
   "cell_type": "markdown",
   "metadata": {},
   "source": [
    "### Train-test split training with feature selection and hyperparameter tuning"
   ]
  },
  {
   "cell_type": "code",
   "execution_count": 18,
   "metadata": {},
   "outputs": [
    {
     "name": "stdout",
     "output_type": "stream",
     "text": [
      "Accuracy of the model after feature selection: 85.38%\n"
     ]
    }
   ],
   "source": [
    "svc_hyp_selected = SVC(C = best_C, gamma = best_gamma, kernel = best_kernel)\n",
    "\n",
    "# Fit/train the model\n",
    "svc_hyp_selected.fit(X_train, y_train)\n",
    "\n",
    "# Predict the model\n",
    "y_pred_hyp_selected = svc_hyp_selected.predict(X_test)\n",
    "\n",
    "accuracy_score_selected = accuracy_score(y_test, y_pred_hyp_selected)\n",
    "\n",
    "print(f\"Accuracy of the model after feature selection: {accuracy_score_selected*100:.2f}%\")"
   ]
  },
  {
   "cell_type": "markdown",
   "metadata": {},
   "source": [
    "# 10-fold cross validation mean accuracy score"
   ]
  },
  {
   "cell_type": "code",
   "execution_count": 19,
   "metadata": {},
   "outputs": [
    {
     "data": {
      "text/plain": [
       "'10-Fold Cross-Validation Accuracy after feature selection: 85.61%'"
      ]
     },
     "execution_count": 19,
     "metadata": {},
     "output_type": "execute_result"
    }
   ],
   "source": [
    "cv_scores_selected = cross_val_score(svc_hyp_selected, X_selected, y, cv=10)\n",
    "\n",
    "cv_accuracy_selected = cv_scores_selected.mean()\n",
    "\n",
    "f\"10-Fold Cross-Validation Accuracy after feature selection: {cv_accuracy_selected * 100:.2f}%\""
   ]
  },
  {
   "cell_type": "markdown",
   "metadata": {},
   "source": [
    "# 5 - Dimensionality reduction"
   ]
  },
  {
   "cell_type": "code",
   "execution_count": 20,
   "metadata": {},
   "outputs": [],
   "source": [
    "from sklearn.decomposition import PCA\n",
    "from sklearn.svm import SVC\n",
    "from sklearn.model_selection import train_test_split, cross_val_score\n",
    "from sklearn.metrics import accuracy_score"
   ]
  },
  {
   "cell_type": "markdown",
   "metadata": {},
   "source": [
    "### Perform PCA to reduce dimensionality"
   ]
  },
  {
   "cell_type": "code",
   "execution_count": 21,
   "metadata": {},
   "outputs": [],
   "source": [
    "# initialize PCA to reduce the dimensionality to 10 components\n",
    "pca = PCA(n_components=10)\n",
    "\n",
    "# fit PCA on the training data\n",
    "X_pca = pca.fit_transform(X)\n",
    "\n",
    "X_train, X_test, y_train, y_test = train_test_split(X_pca, y, test_size=0.3, random_state=42)\n"
   ]
  },
  {
   "cell_type": "markdown",
   "metadata": {},
   "source": [
    "### Train-test split model training with reduced dimensionality"
   ]
  },
  {
   "cell_type": "code",
   "execution_count": 24,
   "metadata": {},
   "outputs": [
    {
     "name": "stdout",
     "output_type": "stream",
     "text": [
      "Accuracy of the model after PCA: 84.04%\n"
     ]
    }
   ],
   "source": [
    "svc_hyp_pca = SVC(C = best_C, gamma = best_gamma, kernel = best_kernel)\n",
    "\n",
    "# Fit/train the model\n",
    "svc_hyp_pca.fit(X_train, y_train)\n",
    "\n",
    "# Predict the model\n",
    "y_pred_hyp_pca = svc_hyp_pca.predict(X_test)\n",
    "\n",
    "accuracy_score_pca = accuracy_score(y_test, y_pred_hyp_pca)\n",
    "\n",
    "print(f\"Accuracy of the model after PCA: {accuracy_score_pca*100:.2f}%\")\n"
   ]
  },
  {
   "cell_type": "markdown",
   "metadata": {},
   "source": [
    "### 10-fold cross validation mean accuracy"
   ]
  },
  {
   "cell_type": "code",
   "execution_count": 23,
   "metadata": {},
   "outputs": [
    {
     "data": {
      "text/plain": [
       "'10-Fold Cross-Validation Accuracy after PCA: 84.37%'"
      ]
     },
     "execution_count": 23,
     "metadata": {},
     "output_type": "execute_result"
    }
   ],
   "source": [
    "# Perform 10-fold cross-validation\n",
    "cv_scores_pca = cross_val_score(svc_hyp_pca, X_pca, y, cv=10)\n",
    "\n",
    "cv_accuracy_pca = cv_scores_pca.mean()\n",
    "\n",
    "f\"10-Fold Cross-Validation Accuracy after PCA: {cv_accuracy_pca * 100:.2f}%\""
   ]
  },
  {
   "cell_type": "markdown",
   "metadata": {},
   "source": [
    "# 6 - Testing with other classifiers"
   ]
  },
  {
   "cell_type": "markdown",
   "metadata": {},
   "source": [
    "### Import libraries"
   ]
  },
  {
   "cell_type": "code",
   "execution_count": 26,
   "metadata": {},
   "outputs": [],
   "source": [
    "import pandas as pd\n",
    "\n",
    "from sklearn.model_selection import train_test_split, cross_val_score\n",
    "from sklearn.metrics import accuracy_score\n",
    "\n",
    "from sklearn.linear_model import SGDClassifier\n",
    "from sklearn.ensemble import RandomForestClassifier\n",
    "from sklearn.neural_network import MLPClassifier"
   ]
  },
  {
   "cell_type": "markdown",
   "metadata": {},
   "source": [
    "### Load dataset and split data "
   ]
  },
  {
   "cell_type": "code",
   "execution_count": 27,
   "metadata": {},
   "outputs": [],
   "source": [
    "df = pd.read_csv('all_data.csv')\n",
    "\n",
    "X = df.drop('class', axis=1)\n",
    "y = df['class']\n",
    "\n",
    "X_train, X_test, y_train, y_test = train_test_split(X, y, test_size=0.3, random_state=42)"
   ]
  },
  {
   "cell_type": "markdown",
   "metadata": {},
   "source": [
    "## SGD - Stochastic Gradient Descent "
   ]
  },
  {
   "cell_type": "markdown",
   "metadata": {},
   "source": [
    "### Train and test accuracy of SGD model"
   ]
  },
  {
   "cell_type": "code",
   "execution_count": 28,
   "metadata": {},
   "outputs": [
    {
     "data": {
      "text/plain": [
       "'Accuracy of the model using Stochastic Gradient Descent: 86.70%'"
      ]
     },
     "execution_count": 28,
     "metadata": {},
     "output_type": "execute_result"
    }
   ],
   "source": [
    "sgd_model = SGDClassifier(random_state=42)\n",
    "\n",
    "sgd_model.fit(X_train, y_train)\n",
    "\n",
    "y_pred = sgd_model.predict(X_test)\n",
    "\n",
    "accuracy_score_sgd = accuracy_score(y_test, y_pred)\n",
    "\n",
    "f\"Accuracy of the model using Stochastic Gradient Descent: {accuracy_score_sgd*100:.2f}%\""
   ]
  },
  {
   "cell_type": "markdown",
   "metadata": {},
   "source": [
    "### 10-fold cross validation mean accuracy score"
   ]
  },
  {
   "cell_type": "code",
   "execution_count": 29,
   "metadata": {},
   "outputs": [
    {
     "data": {
      "text/plain": [
       "'10-Fold Cross-Validation Accuracy using Stochastic Gradient Descent: 85.89%'"
      ]
     },
     "execution_count": 29,
     "metadata": {},
     "output_type": "execute_result"
    }
   ],
   "source": [
    "cv_scores_sgd = cross_val_score(sgd_model, X, y, cv=10)\n",
    "\n",
    "cv_accuracy_sgd = cv_scores_sgd.mean()\n",
    "\n",
    "f\"10-Fold Cross-Validation Accuracy using Stochastic Gradient Descent: {cv_accuracy_sgd * 100:.2f}%\""
   ]
  },
  {
   "cell_type": "markdown",
   "metadata": {},
   "source": [
    "## Random Forest Classifier"
   ]
  },
  {
   "cell_type": "markdown",
   "metadata": {},
   "source": [
    "### Train-test split training"
   ]
  },
  {
   "cell_type": "code",
   "execution_count": 31,
   "metadata": {},
   "outputs": [
    {
     "data": {
      "text/plain": [
       "'Accuracy of the model using Random Forest: 92.40%'"
      ]
     },
     "execution_count": 31,
     "metadata": {},
     "output_type": "execute_result"
    }
   ],
   "source": [
    "rf_model = RandomForestClassifier(random_state = 42)\n",
    "\n",
    "rf_model.fit(X_train, y_train)\n",
    "\n",
    "y_pred_rf = rf_model.predict(X_test)\n",
    "\n",
    "accuracy_score_rf = accuracy_score(y_test, y_pred_rf)\n",
    "\n",
    "f\"Accuracy of the model using Random Forest: {accuracy_score_rf*100:.2f}%\""
   ]
  },
  {
   "cell_type": "markdown",
   "metadata": {},
   "source": [
    "### 10-fold cross validation mean accuracy"
   ]
  },
  {
   "cell_type": "code",
   "execution_count": 32,
   "metadata": {},
   "outputs": [
    {
     "data": {
      "text/plain": [
       "'10-Fold Cross-Validation Accuracy using Random Forest: 92.51%'"
      ]
     },
     "execution_count": 32,
     "metadata": {},
     "output_type": "execute_result"
    }
   ],
   "source": [
    "cv_scores_rf = cross_val_score(rf_model, X, y, cv=10)\n",
    "\n",
    "cv_accuracy_rf = cv_scores_rf.mean()\n",
    "\n",
    "f\"10-Fold Cross-Validation Accuracy using Random Forest: {cv_accuracy_rf * 100:.2f}%\""
   ]
  },
  {
   "cell_type": "markdown",
   "metadata": {},
   "source": [
    "## MLP Classifier"
   ]
  },
  {
   "cell_type": "markdown",
   "metadata": {},
   "source": [
    "### Train-test split training"
   ]
  },
  {
   "cell_type": "code",
   "execution_count": 33,
   "metadata": {},
   "outputs": [
    {
     "data": {
      "text/plain": [
       "'Accuracy of the model using Multi-Layer Perceptron: 89.22%'"
      ]
     },
     "execution_count": 33,
     "metadata": {},
     "output_type": "execute_result"
    }
   ],
   "source": [
    "mlp_model = MLPClassifier(random_state = 42)\n",
    "\n",
    "mlp_model.fit(X_train, y_train)\n",
    "\n",
    "y_pred_mlp = mlp_model.predict(X_test)\n",
    "\n",
    "accuracy_score_mlp = accuracy_score(y_test, y_pred_mlp)\n",
    "\n",
    "f\"Accuracy of the model using Multi-Layer Perceptron: {accuracy_score_mlp*100:.2f}%\""
   ]
  },
  {
   "cell_type": "markdown",
   "metadata": {},
   "source": [
    "### 10-fold cross-validation mean accuracy"
   ]
  },
  {
   "cell_type": "code",
   "execution_count": 35,
   "metadata": {},
   "outputs": [
    {
     "data": {
      "text/plain": [
       "'10-Fold Cross-Validation Accuracy using Multi-Layer Perceptron: 84.81%'"
      ]
     },
     "execution_count": 35,
     "metadata": {},
     "output_type": "execute_result"
    }
   ],
   "source": [
    "cv_scores_mlp = cross_val_score(mlp_model, X, y, cv=10)\n",
    "\n",
    "cv_accuracy = cv_scores_mlp.mean()\n",
    "\n",
    "f\"10-Fold Cross-Validation Accuracy using Multi-Layer Perceptron: {cv_accuracy * 100:.2f}%\""
   ]
  }
 ],
 "metadata": {
  "kernelspec": {
   "display_name": "Python 3 (ipykernel)",
   "language": "python",
   "name": "python3"
  },
  "language_info": {
   "codemirror_mode": {
    "name": "ipython",
    "version": 3
   },
   "file_extension": ".py",
   "mimetype": "text/x-python",
   "name": "python",
   "nbconvert_exporter": "python",
   "pygments_lexer": "ipython3",
   "version": "3.12.3"
  }
 },
 "nbformat": 4,
 "nbformat_minor": 4
}
